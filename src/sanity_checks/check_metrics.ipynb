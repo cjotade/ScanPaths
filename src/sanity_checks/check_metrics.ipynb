{
 "cells": [
  {
   "cell_type": "code",
   "execution_count": 1,
   "metadata": {},
   "outputs": [],
   "source": [
    "import os\n",
    "import numpy as np\n",
    "import pandas as pd\n",
    "import matplotlib\n",
    "import matplotlib.pyplot as plt\n",
    "import sys\n",
    "sys.path.append(\"..\")"
   ]
  },
  {
   "cell_type": "code",
   "execution_count": 2,
   "metadata": {},
   "outputs": [],
   "source": [
    "%load_ext autoreload\n",
    "%autoreload 2"
   ]
  },
  {
   "cell_type": "code",
   "execution_count": 3,
   "metadata": {},
   "outputs": [],
   "source": [
    "from main_classes.ParamsCreator import (\n",
    "    DataParams,\n",
    "    LabelsParams,\n",
    "    TimeseriesParams,\n",
    "    ModelParams,\n",
    "    ParamsParser\n",
    ")\n",
    "\n",
    "from main_classes.DataProcessor import DataProcessor \n",
    "\n",
    "from main_classes.DataRetriever import load_npz\n",
    "\n",
    "from main_classes.ResultDisplayer import plot_pred, plot_mcdropout, plot_config_prediction\n",
    "\n",
    "from utils.utils import create_empty_dict\n",
    "from utils.process_helpers import create_real_dict, adjust_indexes, split_trials_from_scanpath\n",
    "\n",
    "from utils.ScanMatchCalculator import (\n",
    "    ScanMatch_Struct, \n",
    "    ScanMatch_CreateSubMatrix, \n",
    "    ScanMatch_GridMask,\n",
    "    ScanMatch_FixationToSequence, \n",
    "    ScanMatch_NumToDoubleStr, \n",
    "    ScanMatch_DoubleStrToNum,\n",
    "    ScanMatch_nwAlgo,\n",
    "    ScanMatch\n",
    ")"
   ]
  },
  {
   "cell_type": "code",
   "execution_count": 4,
   "metadata": {},
   "outputs": [],
   "source": [
    "# Parameters for load data\n",
    "data_params = DataParams(\n",
    "    DATA_FOLDER=\"../../../data/\",\n",
    "    IMGS_FOLDER=\"../../../data/images/\", \n",
    "    HEIGHT_ORIG=1080, \n",
    "    WIDTH_ORIG=1920, \n",
    "    HEIGHT=768, \n",
    "    WIDTH=1024\n",
    ")\n",
    "\n",
    "# Parameters for create labels\n",
    "labels_params = LabelsParams(\n",
    "    TRAIN_IMG_TYPE=\"natural\", #natural, grey, black, inverted, white_noise, pink_noise, white\n",
    "    TARGET_STEPS_AHEAD=1\n",
    ")\n",
    "\n",
    "# Parameters to create time series\n",
    "timeseries_params = TimeseriesParams(\n",
    "    SEQ_LENGTH=10 #200\n",
    ")\n",
    "\n",
    "# Parameters for learning\n",
    "model_params = ModelParams(\n",
    "    INPUT_UNITS=30, \n",
    "    LEARNING_RATE=0.0001, \n",
    "    EPOCHS=500,\n",
    "    PATIENCE=15\n",
    ")\n",
    "\n",
    "params = ParamsParser(\n",
    "    data_params,\n",
    "    labels_params,\n",
    "    timeseries_params,\n",
    "    model_params,\n",
    "    RESULTS_FOLDER=\"../../results/sanity_checks/\",  #\"../results/MCDropout/\", \n",
    "    CHECKPOINTS_FOLDER=\"../../checkpoints/sanity_checks/\",  #\"../checkpoints/MCDropout/\",\n",
    "    N_MC_SAMPLES=30,\n",
    "    is_train=True,\n",
    "    is_save=True,\n",
    "    is_save_figs=False,\n",
    "    load_model=True\n",
    ")"
   ]
  },
  {
   "cell_type": "markdown",
   "metadata": {},
   "source": [
    "# [X] Check duration multimatch metric"
   ]
  },
  {
   "cell_type": "code",
   "execution_count": 5,
   "metadata": {},
   "outputs": [],
   "source": [
    "import multimatch_gaze as m\n",
    "from main_classes.MetricsCalculator import calculate_multimatch\n",
    "# Params\n",
    "N = 11\n",
    "Nt, SEQ, INuts, LR, EPOCHS, PAT = 1, 10, 30, 0.0001, 5000, 150\n",
    "\n",
    "tIMG = \"natural\"\n",
    "predIMG = \"natural\"\n",
    "\n",
    "# Subject\n",
    "subject_train = \"s620\" #s605, s617, s620\n",
    "\n",
    "# Foldersfolder_path_themselves\n",
    "train_path = f\"SUBJECT_{subject_train}-tIMG_{tIMG}-N_{N}-Nt_{Nt}-SEQ_{SEQ}-InUts_{INuts}-LR_{LR}-EPOCHS_{EPOCHS}-PAT_{PAT}\"\n",
    "\n",
    "folder_path_themselves = os.path.join(params.RESULTS_FOLDER,\n",
    "                          train_path)"
   ]
  },
  {
   "cell_type": "markdown",
   "metadata": {},
   "source": [
    "## [X] Test eyeBehaviour"
   ]
  },
  {
   "cell_type": "code",
   "execution_count": 6,
   "metadata": {},
   "outputs": [
    {
     "data": {
      "text/plain": [
       "'../../results/sanity_checks/SUBJECT_s620-tIMG_natural-N_11-Nt_1-SEQ_10-InUts_30-LR_0.0001-EPOCHS_5000-PAT_150'"
      ]
     },
     "execution_count": 6,
     "metadata": {},
     "output_type": "execute_result"
    }
   ],
   "source": [
    "folder_path_themselves"
   ]
  },
  {
   "cell_type": "code",
   "execution_count": 7,
   "metadata": {
    "scrolled": false
   },
   "outputs": [
    {
     "name": "stdout",
     "output_type": "stream",
     "text": [
      "===========> Loading npz data from natural images\n"
     ]
    }
   ],
   "source": [
    "from main_classes.MetricsCalculator import detect_sac_fix_from_scanpath\n",
    "import json\n",
    "\n",
    "# Load results\n",
    "y_real, y_pred = load_npz(folder_path_themselves, \n",
    "                          predIMG, \n",
    "                          get_mcdropout_results=False)\n",
    "y_real.reset_index(inplace=True, drop=True)\n",
    "y_pred.reset_index(inplace=True, drop=True)\n",
    "\n",
    "# Test eye Behaviour\n",
    "sac_real, fix_real = detect_sac_fix_from_scanpath(y_real)\n",
    "sac_pred, fix_pred = detect_sac_fix_from_scanpath(y_pred)\n",
    "\n",
    "# Plot\n",
    "idx = np.expand_dims(np.arange(len(y_real)), -1)\n",
    "y_real_plot = y_real.copy()\n",
    "y_pred_plot = y_pred.copy()\n",
    "y_real_plot.index = (idx*0.002).squeeze()\n",
    "y_pred_plot.index = (idx*0.002).squeeze()"
   ]
  },
  {
   "cell_type": "code",
   "execution_count": 52,
   "metadata": {
    "scrolled": false
   },
   "outputs": [],
   "source": [
    "sacc_info, _ = detect_sac_fix_from_scanpath(y_real)\n",
    "t_i, t_f = sacc_info[\"t_i\"].astype(int), sacc_info[\"t_f\"].astype(int)\n",
    "block_arr = []\n",
    "for idx_i, idx_f in zip(t_i, t_f):\n",
    "    block_arr.append(y_real.iloc[idx_i:idx_f])\n",
    "block_arr = pd.concat(block_arr).values"
   ]
  },
  {
   "cell_type": "code",
   "execution_count": 53,
   "metadata": {},
   "outputs": [
    {
     "data": {
      "text/plain": [
       "(0.0, 1000.0)"
      ]
     },
     "execution_count": 53,
     "metadata": {},
     "output_type": "execute_result"
    },
    {
     "data": {
      "image/png": "[encoded data removed]",
      "text/plain": [
       "<Figure size 432x288 with 1 Axes>"
      ]
     },
     "metadata": {
      "needs_background": "light"
     },
     "output_type": "display_data"
    }
   ],
   "source": [
    "plt.plot(block_arr)\n",
    "plt.xlim(0,1000)"
   ]
  },
  {
   "cell_type": "code",
   "execution_count": null,
   "metadata": {},
   "outputs": [],
   "source": [
    "fix_real"
   ]
  },
  {
   "cell_type": "code",
   "execution_count": null,
   "metadata": {},
   "outputs": [],
   "source": [
    "\"\"\"\n",
    "sac_real[\"type\"] = \"SAC\"\n",
    "fix_real[\"type\"] = \"FIX\"\n",
    "df_path_real = pd.concat([sac_real, fix_real]).sort_values(\"t_i\")\n",
    "df_path_real\n",
    "\n",
    "sac_pred[\"type\"] = \"SAC\"\n",
    "fix_pred[\"type\"] = \"FIX\"\n",
    "df_path_pred = pd.concat([sac_pred, fix_pred]).sort_values(\"t_i\")\n",
    "df_path_pred\n",
    "\"\"\""
   ]
  },
  {
   "cell_type": "code",
   "execution_count": null,
   "metadata": {
    "scrolled": true
   },
   "outputs": [],
   "source": [
    "# Plot\n",
    "x_lim = None\n",
    "for x_or_y in [\"x\", \"y\"]:\n",
    "    # plot real vs pred\n",
    "    plt.figure(figsize=(20,6))\n",
    "    plt.plot(y_real_plot[x_or_y], 'C0*', label='true', alpha=0.7)\n",
    "    plt.plot(y_pred_plot[x_or_y], 'C1*', label='pred', alpha=0.7)\n",
    "    plot_config_prediction(x_or_y, subject_train, subject_train, N=N, x_lim=x_lim)\n",
    "    plt.show()\n",
    "    # plot real vs eyebehaviour real\n",
    "    plt.figure(figsize=(20,6))\n",
    "    plt.plot(y_real_plot[x_or_y], 'C0*', label='true', alpha=0.7)\n",
    "    xy = f\"start_{x_or_y}\"\n",
    "    #plt.step(df_path_real[\"duration\"].cumsum(), df_path_real[xy], \"C1-*\", where=\"post\", label=\"eyeBehaviour real\")\n",
    "    plt.step(fix_real[\"duration\"].cumsum(), fix_real[xy], \"C1-*\", where=\"post\", label=\"eyeBehaviour real\")\n",
    "    plot_config_prediction(x_or_y, subject_train, subject_train, N=N, x_lim=x_lim)\n",
    "    plt.show()\n",
    "    # plot pred vs eyebehaviour pred\n",
    "    plt.figure(figsize=(20,6))\n",
    "    plt.plot(y_pred_plot[x_or_y], 'C0*', label='pred', alpha=0.7)\n",
    "    xy = f\"start_{x_or_y}\"\n",
    "    plt.step(fix_pred[\"duration\"].cumsum(), fix_pred[xy], \"C1-*\", where=\"post\", label=\"eyeBehaviour pred\")\n",
    "    plot_config_prediction(x_or_y, subject_train, subject_train, N=N, x_lim=x_lim)\n",
    "    plt.show()\n",
    "    # eyebehaviour real vs eyebehaviour pred\n",
    "    plt.figure(figsize=(20,6))\n",
    "    xy = f\"start_{x_or_y}\"\n",
    "    plt.step(fix_real[\"duration\"].cumsum(), fix_real[xy], \"C0-*\", where=\"post\", label=\"eyeBehaviour real\")\n",
    "    plt.step(fix_pred[\"duration\"].cumsum(), fix_pred[xy], \"C1-*\", where=\"post\", label=\"eyeBehaviour pred\")\n",
    "    plot_config_prediction(x_or_y, subject_train, subject_train, N=N, x_lim=x_lim)\n",
    "    plt.show()"
   ]
  },
  {
   "cell_type": "markdown",
   "metadata": {},
   "source": [
    "## [X] Test Remodnav"
   ]
  },
  {
   "cell_type": "code",
   "execution_count": null,
   "metadata": {},
   "outputs": [],
   "source": [
    "from utils.MetricsCalculator import eyeBehaviour_remodnav, format_output_remodnav\n",
    "# Load results\n",
    "y_real, y_pred, mcdropout_mean, mcdropout_std = load_npz(folder_path_themselves, \n",
    "                                                      predIMG, \n",
    "                                                      get_mcdropout_results=True)\n",
    "y_real.reset_index(inplace=True, drop=True)\n",
    "y_pred.reset_index(inplace=True, drop=True)\n",
    "mcdropout_mean.reset_index(inplace=True, drop=True)\n",
    "mcdropout_std.reset_index(inplace=True, drop=True)\n",
    "\n",
    "# Test eye Behaviour\n",
    "sac_real, fix_real_remodnav = detect_sac_fix_from_scanpath(y_real, fn=\"remodnav\")\n",
    "sac_pred, fix_pred_remodnav = detect_sac_fix_from_scanpath(y_pred, fn=\"remodnav\")\n",
    "\n",
    "# Plot\n",
    "idx = np.expand_dims(np.arange(len(y_real)), -1)\n",
    "y_real_plot = y_real.copy()\n",
    "y_pred_plot = y_pred.copy()\n",
    "y_real_plot.index = (idx*0.002).squeeze()\n",
    "y_pred_plot.index = (idx*0.002).squeeze()"
   ]
  },
  {
   "cell_type": "code",
   "execution_count": null,
   "metadata": {
    "scrolled": true
   },
   "outputs": [],
   "source": [
    "# Plot\n",
    "x_lim = (0,10)\n",
    "for x_or_y in [\"x\", \"y\"]:\n",
    "    # plot real vs pred\n",
    "    plt.figure(figsize=(20,6))\n",
    "    plt.plot(y_real_plot[x_or_y], 'C0*', label='true', alpha=0.7)\n",
    "    plt.plot(y_pred_plot[x_or_y], 'C1*', label='pred', alpha=0.7)\n",
    "    plot_config_prediction(x_or_y, subject_train, subject_train, N=N, x_lim=x_lim)\n",
    "    plt.show()\n",
    "    # plot real vs eyebehaviour real\n",
    "    plt.figure(figsize=(20,6))\n",
    "    plt.plot(y_real_plot[x_or_y], 'C0*', label='true', alpha=0.7)\n",
    "    xy = f\"start_{x_or_y}\"\n",
    "    plt.step(fix_real_remodnav[\"duration\"].cumsum(), fix_real_remodnav[xy], \"C1-*\", where=\"post\", label=\"Remodnav real\")\n",
    "    plot_config_prediction(x_or_y, subject_train, subject_train, N=N, x_lim=x_lim)\n",
    "    plt.show()\n",
    "    # plot pred vs eyebehaviour pred\n",
    "    plt.figure(figsize=(20,6))\n",
    "    plt.plot(y_pred_plot[x_or_y], 'C0*', label='pred', alpha=0.7)\n",
    "    xy = f\"start_{x_or_y}\"\n",
    "    plt.step(fix_pred_remodnav[\"duration\"].cumsum(), fix_pred_remodnav[xy], \"C1-*\", where=\"post\", label=\"Remodnav pred\")\n",
    "    plot_config_prediction(x_or_y, subject_train, subject_train, N=N, x_lim=x_lim)\n",
    "    plt.show()\n",
    "    # eyebehaviour real vs eyebehaviour pred\n",
    "    plt.figure(figsize=(20,6))\n",
    "    xy = f\"start_{x_or_y}\"\n",
    "    plt.step(fix_real_remodnav[\"duration\"].cumsum(), fix_real_remodnav[xy], \"C0-*\", where=\"post\", label=\"Remodnav real\")\n",
    "    plt.step(fix_pred_remodnav[\"duration\"].cumsum(), fix_pred_remodnav[xy], \"C1-*\", where=\"post\", label=\"Remodnav pred\")\n",
    "    plot_config_prediction(x_or_y, subject_train, subject_train, N=N, x_lim=x_lim)\n",
    "    plt.show()"
   ]
  },
  {
   "cell_type": "markdown",
   "metadata": {},
   "source": [
    "## [X] Comparison eyeBehaviour vs Remodnav"
   ]
  },
  {
   "cell_type": "code",
   "execution_count": null,
   "metadata": {},
   "outputs": [],
   "source": [
    "# Plot\n",
    "x_lim = (0,10)\n",
    "for x_or_y in [\"x\", \"y\"]:\n",
    "    # eyebehaviour real vs remodnav real\n",
    "    plt.figure(figsize=(20,6))\n",
    "    xy = f\"start_{x_or_y}\"\n",
    "    plt.plot(y_real_plot[x_or_y], 'C0*', label='true', alpha=0.7)\n",
    "    plt.step(fix_real[\"duration\"].cumsum(), fix_real[xy], \"C1-*\", where=\"post\", label=\"eyeBehaviour real\")\n",
    "    plt.step(fix_real_remodnav[\"duration\"].cumsum(), fix_real_remodnav[xy], \"C2-*\", where=\"post\", label=\"Remodnav real\")\n",
    "    plot_config_prediction(x_or_y, subject_train, subject_train, N=N, x_lim=x_lim)\n",
    "    plt.show()\n",
    "    \n",
    "    # eyebehaviour pred vs remodnav pred\n",
    "    plt.figure(figsize=(20,6))\n",
    "    xy = f\"start_{x_or_y}\"\n",
    "    plt.plot(y_pred_plot[x_or_y], 'C0*', label='true', alpha=0.7)\n",
    "    plt.step(fix_pred[\"duration\"].cumsum(), fix_pred[xy], \"C1-*\", where=\"post\", label=\"eyeBehaviour real\")\n",
    "    plt.step(fix_pred_remodnav[\"duration\"].cumsum(), fix_pred_remodnav[xy], \"C2-*\", where=\"post\", label=\"Remodnav real\")\n",
    "    plot_config_prediction(x_or_y, subject_train, subject_train, N=N, x_lim=x_lim)\n",
    "    plt.show()"
   ]
  },
  {
   "cell_type": "markdown",
   "metadata": {},
   "source": [
    "## [X] Test multimatch"
   ]
  },
  {
   "cell_type": "code",
   "execution_count": null,
   "metadata": {},
   "outputs": [],
   "source": [
    "import multimatch_gaze as m\n",
    "from utils.MetricsCalculator import calculate_multimatch\n",
    "# Params\n",
    "N = 11\n",
    "Nt, SEQ, INuts, LR, EPOCHS, PAT = 1, 10, 30, 0.0001, 500, 15\n",
    "\n",
    "tIMG = \"natural\"\n",
    "predIMG = \"natural\"\n",
    "\n",
    "# Subject\n",
    "subject_train = \"s620\" #s605, s617, s620\n",
    "\n",
    "# Folders\n",
    "train_path = f\"SUBJECT_{subject_train}-tIMG_{tIMG}-N_{N}-Nt_{Nt}-SEQ_{SEQ}-InUts_{INuts}-LR_{LR}-EPOCHS_{EPOCHS}-PAT_{PAT}\"\n",
    "\n",
    "folder_path_themselves = os.path.join(params.RESULTS_FOLDER,\n",
    "                          train_path)\n",
    "\n",
    "# Load results\n",
    "y_real, y_pred, mcdropout_mean, mcdropout_std = load_npz(folder_path_themselves, \n",
    "                                                      predIMG, \n",
    "                                                      get_mcdropout_results=True)\n",
    "print(calculate_multimatch(y_real, y_pred))\n",
    "print(calculate_multimatch(y_real.reset_index(drop=True), y_pred.reset_index(drop=True)))\n",
    "\n",
    "y_real.reset_index(inplace=True, drop=True)\n",
    "y_pred.reset_index(inplace=True, drop=True)\n",
    "mcdropout_mean.reset_index(inplace=True, drop=True)\n",
    "mcdropout_std.reset_index(inplace=True, drop=True)\n",
    "\n",
    "# Test eye Behaviour\n",
    "sac_real, fix_real = detect_sac_fix_from_scanpath(y_real, fn=\"eyeBehaviour\")\n",
    "sac_pred, fix_pred = detect_sac_fix_from_scanpath(y_pred, fn=\"eyeBehaviour\")\n",
    "\n",
    "# Plot\n",
    "idx = np.expand_dims(np.arange(len(y_pred)), -1)\n",
    "y_real_plot = y_real.copy()\n",
    "y_pred_plot = y_pred.copy()\n",
    "y_real_plot.index = (idx*0.002).squeeze()\n",
    "y_pred_plot.index = (idx*0.002).squeeze()\n"
   ]
  },
  {
   "cell_type": "code",
   "execution_count": null,
   "metadata": {},
   "outputs": [],
   "source": [
    "y_real, y_pred, mcdropout_mean, mcdropout_std = load_npz(folder_path_themselves, \n",
    "                                                      predIMG, \n",
    "                                                      get_mcdropout_results=True)\n",
    "#print(calculate_multimatch(y_real, y_pred))\n",
    "y_real"
   ]
  },
  {
   "cell_type": "markdown",
   "metadata": {},
   "source": [
    "### [X] real == pred"
   ]
  },
  {
   "cell_type": "code",
   "execution_count": null,
   "metadata": {},
   "outputs": [],
   "source": [
    "x_lim = (0, 10)\n",
    "fix_pred = fix_real.copy()\n",
    "print(m.docomparison(fix_real, fix_pred, screensize=[1920, 1080]))\n",
    "for x_or_y in [\"x\", \"y\"]:\n",
    "    plt.figure(figsize=(20,6))\n",
    "    plt.plot(y_real_plot[x_or_y], 'C0*', label='true', alpha=0.7)\n",
    "    plt.step(fix_real[\"duration\"].cumsum(), fix_real[xy], \"C1-*\", where=\"post\", label=\"eyeBehaviour real\")\n",
    "    plt.step(fix_pred[\"duration\"].cumsum(), fix_pred[xy], \"C2-*\", where=\"post\", label=\"eyeBehaviour pred\")\n",
    "    plot_config_prediction(x_or_y, subject_train, subject_train, N=N, x_lim=x_lim)"
   ]
  },
  {
   "cell_type": "markdown",
   "metadata": {},
   "source": [
    "### [X] pred[duration] += number"
   ]
  },
  {
   "cell_type": "code",
   "execution_count": null,
   "metadata": {
    "scrolled": true
   },
   "outputs": [],
   "source": [
    "fix_pred = fix_real.copy()\n",
    "#fix_pred[\"duration\"] += 0.01\n",
    "fix_pred[\"duration\"] *= 0.9\n",
    "print(m.docomparison(fix_real, fix_pred, screensize=[1920, 1080]))\n",
    "for x_or_y in [\"x\", \"y\"]:\n",
    "    plt.figure(figsize=(20,6))\n",
    "    plt.step(fix_real[\"duration\"].cumsum(), fix_real[xy], \"C0-*\", where=\"post\", label=\"eyeBehaviour real\")\n",
    "    plt.step(fix_pred[\"duration\"].cumsum(), fix_pred[xy], \"C1-*\", where=\"post\", label=\"eyeBehaviour pred\")\n",
    "    plot_config_prediction(x_or_y, subject_train, subject_train, N=N)"
   ]
  },
  {
   "cell_type": "markdown",
   "metadata": {},
   "source": [
    "### [X] Subject s622, mduration = 0.5"
   ]
  },
  {
   "cell_type": "code",
   "execution_count": null,
   "metadata": {},
   "outputs": [],
   "source": [
    "# Params\n",
    "N = 5\n",
    "Nt, SEQ, INuts, LR, EPOCHS, PAT = 1, 10, 30, 0.0001, 500, 15\n",
    "\n",
    "tIMG = \"natural\"\n",
    "predIMG = \"natural\"\n",
    "\n",
    "# Subjects\n",
    "subject_train = \"s622\"\n",
    "\n",
    "# Test against themselves\n",
    "# -----------------------\n",
    "# Folders\n",
    "train_path = f\"SUBJECT_{subject_train}-tIMG_{tIMG}-N_{N}-Nt_{Nt}-SEQ_{SEQ}-InUts_{INuts}-LR_{LR}-EPOCHS_{EPOCHS}-PAT_{PAT}\"\n",
    "\n",
    "folder_path_themselves = os.path.join(params.RESULTS_FOLDER,\n",
    "                          train_path)\n",
    "# Load results\n",
    "y_real, y_pred, mcdropout_mean, mcdropout_std = load_npz(folder_path_themselves, \n",
    "                                                      predIMG, \n",
    "                                                      get_mcdropout_results=True)\n",
    "y_real.reset_index(inplace=True, drop=True)\n",
    "y_pred.reset_index(inplace=True, drop=True)\n",
    "mcdropout_mean.reset_index(inplace=True, drop=True)\n",
    "mcdropout_std.reset_index(inplace=True, drop=True)\n",
    "\n",
    "# Test eye Behaviour\n",
    "sac_real_s622, fix_real_s622 = detect_sac_fix_from_scanpath(y_real, fn=\"eyeBehaviour\")\n",
    "\n",
    "# Plot\n",
    "idx = np.expand_dims(np.arange(len(y_pred)), -1)\n",
    "y_real_s622 = y_real.copy()\n",
    "y_pred_s622 = y_pred.copy()\n",
    "y_real_s622.index = (idx*0.002).squeeze()\n",
    "y_pred_s622.index = (idx*0.002).squeeze()"
   ]
  },
  {
   "cell_type": "code",
   "execution_count": null,
   "metadata": {},
   "outputs": [],
   "source": [
    "x_lim = (0, 15)\n",
    "_, fix_pred_s622 = detect_sac_fix_from_scanpath(y_pred, fn=\"eyeBehaviour\")\n",
    "print(m.docomparison(fix_real_s622, fix_pred_s622, screensize=[1920, 1080]))\n",
    "#print(m.docomparison(fix_real_s622[x_lim[0]:x_lim[1]].reset_index(drop=True), fix_pred_s622[x_lim[0]:x_lim[1]].reset_index(drop=True), screensize=[1920, 1080]))\n",
    "for x_or_y in [\"x\", \"y\"]:\n",
    "    plt.figure(figsize=(20,6))\n",
    "    plt.step(fix_real_s622[\"duration\"].cumsum(), fix_real_s622[xy], \"C0-*\", where=\"post\", label=\"eyeBehaviour real\")\n",
    "    plt.step(fix_pred_s622[\"duration\"].cumsum(), fix_pred_s622[xy], \"C1-*\", where=\"post\", label=\"eyeBehaviour pred\")\n",
    "    plot_config_prediction(x_or_y, subject_train, subject_train, N=N, x_lim=x_lim)\n",
    "    plt.xticks(fontsize=14)"
   ]
  },
  {
   "cell_type": "markdown",
   "metadata": {},
   "source": [
    "### [X] Subject s620 mduration = 0.95"
   ]
  },
  {
   "cell_type": "code",
   "execution_count": null,
   "metadata": {},
   "outputs": [],
   "source": [
    "# Params\n",
    "N = 5\n",
    "Nt, SEQ, INuts, LR, EPOCHS, PAT = 1, 10, 30, 0.0001, 500, 15\n",
    "\n",
    "tIMG = \"natural\"\n",
    "predIMG = \"natural\"\n",
    "\n",
    "# Subjects\n",
    "subject_train = \"s620\"\n",
    "\n",
    "# Test against themselves\n",
    "# -----------------------\n",
    "# Folders\n",
    "train_path = f\"SUBJECT_{subject_train}-tIMG_{tIMG}-N_{N}-Nt_{Nt}-SEQ_{SEQ}-InUts_{INuts}-LR_{LR}-EPOCHS_{EPOCHS}-PAT_{PAT}\"\n",
    "\n",
    "folder_path_themselves = os.path.join(params.RESULTS_FOLDER,\n",
    "                          train_path)\n",
    "# Load results\n",
    "y_real, y_pred, mcdropout_mean, mcdropout_std = load_npz(folder_path_themselves, \n",
    "                                                      predIMG, \n",
    "                                                      get_mcdropout_results=True)\n",
    "y_real.reset_index(inplace=True, drop=True)\n",
    "y_pred.reset_index(inplace=True, drop=True)\n",
    "mcdropout_mean.reset_index(inplace=True, drop=True)\n",
    "mcdropout_std.reset_index(inplace=True, drop=True)\n",
    "\n",
    "# Test eye Behaviour\n",
    "sac_real_s620, fix_real_s620 = detect_sac_fix_from_scanpath(y_real, fn=\"eyeBehaviour\")\n",
    "\n",
    "# Plot\n",
    "idx = np.expand_dims(np.arange(len(y_pred)), -1)\n",
    "y_real_s620 = y_real.copy()\n",
    "y_pred_s620 = y_pred.copy()\n",
    "y_real_s620.index = (idx*0.002).squeeze()\n",
    "y_pred_s620.index = (idx*0.002).squeeze()"
   ]
  },
  {
   "cell_type": "code",
   "execution_count": null,
   "metadata": {},
   "outputs": [],
   "source": [
    "_, fix_pred_s620 = detect_sac_fix_from_scanpath(y_pred, fn=\"eyeBehaviour\")\n",
    "print(m.docomparison(fix_real_s620, fix_pred_s620, screensize=[1920, 1080]))\n",
    "for x_or_y in [\"x\", \"y\"]:\n",
    "    plt.figure(figsize=(20,6))\n",
    "    plt.step(fix_real_s620[\"duration\"].cumsum(), fix_real_s620[xy], \"C0-*\", where=\"post\", label=\"eyeBehaviour real\")\n",
    "    plt.step(fix_pred_s620[\"duration\"].cumsum(), fix_pred_s620[xy], \"C1-*\", where=\"post\", label=\"eyeBehaviour pred\")\n",
    "    plot_config_prediction(x_or_y, subject_train, subject_train, N=N)"
   ]
  },
  {
   "cell_type": "markdown",
   "metadata": {},
   "source": [
    "### [X] s620 vs s622"
   ]
  },
  {
   "cell_type": "code",
   "execution_count": null,
   "metadata": {},
   "outputs": [],
   "source": [
    "print(\"s620:\", m.docomparison(fix_real_s620, fix_pred_s620, screensize=[1920, 1080]))\n",
    "print(\"s622:\", m.docomparison(fix_real_s622, fix_pred_s622, screensize=[1920, 1080]))\n",
    "\n",
    "for x_or_y in [\"x\", \"y\"]:\n",
    "    plt.figure(figsize=(20,6))\n",
    "    #plt.plot(y_real_s620[x_or_y], 'C0*', label='true s620', alpha=0.7)\n",
    "    plt.step(fix_real_s620[\"duration\"].cumsum(), fix_real_s620[xy], \"C0-*\", where=\"post\", label=\"eyeBehaviour real s620\")\n",
    "    plt.step(fix_pred_s620[\"duration\"].cumsum(), fix_pred_s620[xy], \"C1-*\", where=\"post\", label=\"eyeBehaviour pred s620\")\n",
    "    plot_config_prediction(x_or_y, \"s620\", subject_train, N=N)\n",
    "    \n",
    "    plt.figure(figsize=(20,6))\n",
    "    #plt.plot(y_real_s622[x_or_y], 'C0*', label='true', alpha=0.7)\n",
    "    plt.step(fix_real_s622[\"duration\"].cumsum(), fix_real_s622[xy], \"C0-*\", where=\"post\", label=\"eyeBehaviour real s622\")\n",
    "    plt.step(fix_pred_s622[\"duration\"].cumsum(), fix_pred_s622[xy], \"C1-*\", where=\"post\", label=\"eyeBehaviour pred s622\")\n",
    "    plot_config_prediction(x_or_y, \"s622\", subject_train, N=N)"
   ]
  },
  {
   "cell_type": "markdown",
   "metadata": {},
   "source": [
    "# [$\\checkmark$] Check Scanmatch "
   ]
  },
  {
   "cell_type": "code",
   "execution_count": null,
   "metadata": {},
   "outputs": [],
   "source": [
    "import scipy.io\n",
    "mat = scipy.io.loadmat(\"ScanMatch_DataExample.mat\")\n",
    "data1 = mat[\"data1\"]\n",
    "data2 = mat[\"data2\"]\n",
    "data3 = mat[\"data3\"]"
   ]
  },
  {
   "cell_type": "code",
   "execution_count": null,
   "metadata": {},
   "outputs": [],
   "source": [
    "ScanMatchInfo = {\n",
    "    \"Xres\": 1024,\n",
    "    \"Yres\": 768,\n",
    "    \"Xbin\": 12,\n",
    "    \"Ybin\": 8,\n",
    "    \"RoiModulus\": 12,\n",
    "    \"Threshold\": 3.5,\n",
    "    \"GapValue\": 0,\n",
    "    \"TempBin\": 0\n",
    "}\n",
    "ScanMatchInfo[\"SubMatrix\"] = ScanMatch_CreateSubMatrix(\n",
    "    ScanMatchInfo[\"Xbin\"], \n",
    "    ScanMatchInfo[\"Ybin\"], \n",
    "    ScanMatchInfo[\"Threshold\"]\n",
    ")\n",
    "ScanMatchInfo[\"mask\"] = ScanMatch_GridMask(\n",
    "    ScanMatchInfo[\"Xres\"], \n",
    "    ScanMatchInfo[\"Yres\"], \n",
    "    ScanMatchInfo[\"Xbin\"],\n",
    "    ScanMatchInfo[\"Ybin\"]\n",
    ")"
   ]
  },
  {
   "cell_type": "code",
   "execution_count": null,
   "metadata": {},
   "outputs": [],
   "source": [
    "seq1 = ScanMatch_FixationToSequence(data1, ScanMatchInfo) \n",
    "seq1_matlab = \"bDbGbGbGcDcDhBhFeHeHhJdLdLeKcIcHbLaLcI\"\n",
    "seq1 == seq1_matlab"
   ]
  },
  {
   "cell_type": "code",
   "execution_count": null,
   "metadata": {},
   "outputs": [],
   "source": [
    "seq_num1 = ScanMatch_DoubleStrToNum(seq1, ScanMatchInfo[\"RoiModulus\"])\n",
    "seq_num1_matlab = [16, 19, 19, 19, 28, 28, 86, 90, 56, 56, 94, 48, 48, 59, 33, 32, 24, 12, 33]\n",
    "seq_num1 == seq_num1_matlab"
   ]
  },
  {
   "cell_type": "code",
   "execution_count": null,
   "metadata": {},
   "outputs": [],
   "source": [
    "seq1 = ScanMatch_FixationToSequence(data1, ScanMatchInfo)\n",
    "seq1"
   ]
  },
  {
   "cell_type": "code",
   "execution_count": null,
   "metadata": {},
   "outputs": [],
   "source": [
    "seq2 = ScanMatch_FixationToSequence(data2, ScanMatchInfo);\n",
    "seq2_matlab = \"dFcCbGaGcDcChBhBhFeHeHhJeKaLcHcH\"\n",
    "seq2 == seq2_matlab"
   ]
  },
  {
   "cell_type": "code",
   "execution_count": null,
   "metadata": {},
   "outputs": [],
   "source": [
    "seq3 = ScanMatch_FixationToSequence(data3, ScanMatchInfo);"
   ]
  },
  {
   "cell_type": "code",
   "execution_count": null,
   "metadata": {},
   "outputs": [],
   "source": [
    "seq_num2 = ScanMatch_DoubleStrToNum(seq2, ScanMatchInfo[\"RoiModulus\"])\n",
    "seq_num2_matlab = [42, 27, 19, 7, 28, 27, 86, 86, 90, 56, 56, 94, 59, 12, 32, 32]\n",
    "seq_num2 == seq_num2_matlab"
   ]
  },
  {
   "cell_type": "code",
   "execution_count": null,
   "metadata": {},
   "outputs": [],
   "source": [
    "intseq1 = ScanMatch_DoubleStrToNum(seq1, ScanMatchInfo[\"RoiModulus\"])\n",
    "intseq2 = ScanMatch_DoubleStrToNum(seq2, ScanMatchInfo[\"RoiModulus\"])\n",
    "intseq3 = ScanMatch_DoubleStrToNum(seq3, ScanMatchInfo[\"RoiModulus\"])"
   ]
  },
  {
   "cell_type": "code",
   "execution_count": null,
   "metadata": {},
   "outputs": [],
   "source": [
    "score = ScanMatch_nwAlgo(intseq1, intseq2, ScanMatchInfo[\"SubMatrix\"], ScanMatchInfo[\"GapValue\"])\n",
    "display(score)\n",
    "score = ScanMatch_nwAlgo(intseq1, intseq3, ScanMatchInfo[\"SubMatrix\"], ScanMatchInfo[\"GapValue\"])\n",
    "display(score)\n",
    "score = ScanMatch_nwAlgo(intseq2, intseq3, ScanMatchInfo[\"SubMatrix\"], ScanMatchInfo[\"GapValue\"])\n",
    "display(score)"
   ]
  },
  {
   "cell_type": "code",
   "execution_count": null,
   "metadata": {},
   "outputs": [],
   "source": [
    "display(ScanMatch(seq1, seq2, ScanMatchInfo))\n",
    "display(ScanMatch(seq1, seq3, ScanMatchInfo))\n",
    "display(ScanMatch(seq2, seq3, ScanMatchInfo))"
   ]
  },
  {
   "cell_type": "code",
   "execution_count": null,
   "metadata": {},
   "outputs": [],
   "source": [
    "ScanMatchInfo[\"TempBin\"] = 100\n",
    "seq1 = ScanMatch_FixationToSequence(data1, ScanMatchInfo)\n",
    "seq1_matlab = \"bGbGbGbGbGcDcDcDcDhBhBhBhBhBhFhFhFhFhFhFhFeHeHeHeHeHeHeHeHeHeHhJhJhJdLdLdLdLdLdLdLdLeKeKeKeKcIcHcHbLbLaLaLcIcIcIcIcIcI\"\n",
    "seq1 == seq1_matlab"
   ]
  },
  {
   "cell_type": "code",
   "execution_count": null,
   "metadata": {},
   "outputs": [],
   "source": [
    "seq2 = ScanMatch_FixationToSequence(data2, ScanMatchInfo);\n",
    "seq2_matlab = \"bGbGaGaGcDcDcDcDcDcDcCcChBhBhBhBhBhBhBhBhFhFhFhFhFhFeHeHeHeHeHeHeHeHhJhJhJhJhJhJeKeKeKeKaLaLaLaLaLcHcHcHcHcHcHcHcHcHcH\"\n",
    "seq2 == seq2_matlab"
   ]
  },
  {
   "cell_type": "code",
   "execution_count": null,
   "metadata": {},
   "outputs": [],
   "source": [
    "seq3 = ScanMatch_FixationToSequence(data3, ScanMatchInfo);\n",
    "seq3_matlab = \"dGcHcIcIcIcIaLaLaLaLaLeKeKeKeKeKeKeKeKeKhJhJhJhJhJhJhJhJhJgIgIgIgIgIfHeHeHhFhFhFhFhFhFhFhFhBhBhBhBhBhBdCdCdCdCdCdCcCcCbGbGbGbGbGbGbGbG\"\n",
    "seq3 == seq3_matlab"
   ]
  },
  {
   "cell_type": "code",
   "execution_count": null,
   "metadata": {},
   "outputs": [],
   "source": [
    "display(ScanMatch(seq1, seq2, ScanMatchInfo))\n",
    "display(ScanMatch(seq1, seq3, ScanMatchInfo))\n",
    "display(ScanMatch(seq2, seq3, ScanMatchInfo))"
   ]
  },
  {
   "cell_type": "code",
   "execution_count": null,
   "metadata": {},
   "outputs": [],
   "source": [
    "ScanMatchInfo = ScanMatch_Struct()\n",
    "\n",
    "# Params\n",
    "N = 20\n",
    "Nt, SEQ, INuts, LR, EPOCHS, PAT = 1, 10, 30, 0.0001, 500, 15\n",
    "\n",
    "tIMG = \"inverted\"\n",
    "predIMG = \"grey\"\n",
    "\n",
    "# Subjects\n",
    "subject_train = \"s616\"\n",
    "\n",
    "# Test against themselves\n",
    "# -----------------------\n",
    "# Folders\n",
    "#SUBJECT_s616-tIMG_inverted-N_20-Nt_1-SEQ_10-InUts_30-LR_0.0001-EPOCHS_500-PAT_15\n",
    "train_path = f\"SUBJECT_{subject_train}-tIMG_{tIMG}-N_{N}-Nt_{Nt}-SEQ_{SEQ}-InUts_{INuts}-LR_{LR}-EPOCHS_{EPOCHS}-PAT_{PAT}\"\n",
    "\n",
    "folder_path_themselves = os.path.join(params.RESULTS_FOLDER,\n",
    "                          train_path)\n",
    "# Load results\n",
    "y_real, y_pred, mcdropout_mean, mcdropout_std = load_npz(folder_path_themselves, \n",
    "                                                      predIMG, \n",
    "                                                      get_mcdropout_results=True)\n",
    "#y_real.reset_index(inplace=True, drop=True)\n",
    "#y_pred.reset_index(inplace=True, drop=True)"
   ]
  },
  {
   "cell_type": "code",
   "execution_count": null,
   "metadata": {},
   "outputs": [],
   "source": [
    "from utils.MetricsCalculator import detect_sac_fix_from_scanpath\n",
    "_, fix_real = detect_sac_fix_from_scanpath(y_real, fn=\"eyeBehaviour\")\n",
    "_, fix_pred = detect_sac_fix_from_scanpath(y_pred, fn=\"eyeBehaviour\")\n",
    "\n",
    "display(fix_real)\n",
    "display(fix_pred)"
   ]
  },
  {
   "cell_type": "code",
   "execution_count": null,
   "metadata": {},
   "outputs": [],
   "source": [
    "seq_real = ScanMatch_FixationToSequence(fix_real, ScanMatchInfo) \n",
    "seq_pred = ScanMatch_FixationToSequence(fix_pred, ScanMatchInfo)\n",
    "display(len(seq_real))\n",
    "display(len(seq_pred))"
   ]
  },
  {
   "cell_type": "code",
   "execution_count": null,
   "metadata": {},
   "outputs": [],
   "source": [
    "display(fix_real.describe())\n",
    "display(fix_pred.describe())"
   ]
  },
  {
   "cell_type": "code",
   "execution_count": null,
   "metadata": {},
   "outputs": [],
   "source": [
    "scanpath = fix_real.copy()\n",
    "\n",
    "from utils.utils import round_parser\n",
    "scanpath = np.array(scanpath, dtype=np.float32)\n",
    "# Any negative value will be set to 1\n",
    "scanpath[:, 0][scanpath[:, 0] < 0] = 1\n",
    "scanpath[:, 1][scanpath[:, 1] < 0] = 1\n",
    "\n",
    "# Fixations outside the screen resolution will be set to the screen resolution\n",
    "scanpath[:, 0][scanpath[:, 0] > ScanMatchInfo[\"Xres\"]] = ScanMatchInfo[\"Xres\"] - 1\n",
    "scanpath[:, 1][scanpath[:, 1] > ScanMatchInfo[\"Yres\"]] = ScanMatchInfo[\"Yres\"] - 1\n",
    "\n",
    "# ---- Get eye movement sequences ----\n",
    "def _select_from_mask(scanpath, mask):\n",
    "    scanpath = scanpath.astype(np.int64)\n",
    "    subs = np.ravel_multi_index([scanpath[:, 1], scanpath[:, 0]], mask.shape, order=\"F\") \n",
    "    sel_subs = np.unravel_index(subs, shape=mask.shape, order=\"F\")\n",
    "    seq_num = mask[sel_subs]\n",
    "    return round_parser(seq_num)\n",
    "\n",
    "seq_num = _select_from_mask(scanpath, ScanMatchInfo[\"mask\"])\n",
    "display(seq_num.shape)\n",
    "# ---- Temporal binning if needed ----\n",
    "if ScanMatchInfo[\"TempBin\"] != 0:\n",
    "    # Check if fixation times are available\n",
    "    assert scanpath.shape[-1] == 3 # fixation times available\n",
    "    fix_time = round_parser(scanpath[:, 2] / ScanMatchInfo[\"TempBin\"])\n",
    "    seq = []\n",
    "    for i in range(1, scanpath.shape[0]):\n",
    "        seq_add = (seq_num[i] * np.ones(fix_time[i])).tolist()\n",
    "        seq = seq + seq_add\n",
    "    seq_num = np.array(seq)\n",
    "display(seq_num.shape)\n",
    "seq_str = ScanMatch_NumToDoubleStr(seq_num, ScanMatchInfo[\"RoiModulus\"])\n",
    "display(len(seq_str))"
   ]
  },
  {
   "cell_type": "markdown",
   "metadata": {},
   "source": [
    "# [$\\checkmark$] DTW"
   ]
  },
  {
   "cell_type": "code",
   "execution_count": null,
   "metadata": {},
   "outputs": [],
   "source": [
    "def DTW(P, Q, **kwargs):\n",
    "    from fastdtw import fastdtw\n",
    "    from scipy.spatial.distance import euclidean\n",
    "    dist, _ =  fastdtw(P, Q, dist=euclidean)\n",
    "    return dist"
   ]
  },
  {
   "cell_type": "code",
   "execution_count": null,
   "metadata": {},
   "outputs": [],
   "source": [
    "DTW(y_real, y_pred)"
   ]
  },
  {
   "cell_type": "markdown",
   "metadata": {},
   "source": [
    "# [ ] REC"
   ]
  },
  {
   "cell_type": "code",
   "execution_count": null,
   "metadata": {},
   "outputs": [],
   "source": [
    "def REC(P,Q, threshold=196.9, **kwargs):\n",
    "    \"\"\"\n",
    "        Cross-recurrence\n",
    "        https://link.springer.com/content/pdf/10.3758%2Fs13428-014-0550-3.pdf\n",
    "    \"\"\"\n",
    "    def _C(P, Q, threshold):\n",
    "        assert (P.shape == Q.shape)\n",
    "        shape = P.shape[0]\n",
    "        c = np.zeros((shape, shape))\n",
    "        \n",
    "        for i in range(shape):\n",
    "            for j in range(shape):\n",
    "                if euclidean(P[i], Q[j]) < threshold:\n",
    "                    c[i,j] = 1\n",
    "        return c\n",
    "    P = np.array(P, dtype=np.float32)\n",
    "    Q = np.array(Q, dtype=np.float32)\n",
    "    min_len = P.shape[0] if (P.shape[0] < Q.shape[0]) else Q.shape[0]\n",
    "    P = P[:min_len,:2]\n",
    "    Q = Q[:min_len,:2]\n",
    "\n",
    "    c = _C(P, Q, threshold)\n",
    "    R = np.triu(c,1).sum()\n",
    "    return 100 * (2 * R) / (min_len * (min_len - 1))"
   ]
  },
  {
   "cell_type": "code",
   "execution_count": null,
   "metadata": {},
   "outputs": [],
   "source": [
    "def DET(P,Q, threshold, **kwargs):\n",
    "    \"\"\"\n",
    "        https://link.springer.com/content/pdf/10.3758%2Fs13428-014-0550-3.pdf\n",
    "    \"\"\"\n",
    "    def _C(P, Q, threshold):\n",
    "        assert (P.shape == Q.shape)\n",
    "        shape = P.shape[0]\n",
    "        c = np.zeros((shape, shape))\n",
    "\n",
    "        for i in range(shape):\n",
    "            for j in range(shape):\n",
    "                if euclidean(P[i], Q[j]) < threshold:\n",
    "                    c[i,j] = 1\n",
    "        return c\n",
    "\n",
    "\n",
    "    P = np.array(P, dtype=np.float32)\n",
    "    Q = np.array(Q, dtype=np.float32)\n",
    "    min_len = P.shape[0] if (P.shape[0] < Q.shape[0]) else Q.shape[0]\n",
    "    P = P[:min_len,:2]\n",
    "    Q = Q[:min_len,:2]\n",
    "\n",
    "    c = _C(P, Q, threshold)\n",
    "    R = np.triu(c,1).sum()\n",
    "\n",
    "    counter = 0\n",
    "    for i in range(1,min_len):\n",
    "        data = c.diagonal(i)\n",
    "        data = ''.join([str(item) for item in data])\n",
    "        counter += len(re.findall('1{2,}', data))\n",
    "\n",
    "\n",
    "    return 100 * (counter / R)"
   ]
  },
  {
   "cell_type": "code",
   "execution_count": null,
   "metadata": {},
   "outputs": [],
   "source": [
    "sac_real, fix_real = detect_sac_fix_from_scanpath(y_real)\n",
    "sac_pred, fix_pred = detect_sac_fix_from_scanpath(y_pred)\n",
    "REC(fix_real, fix_pred, threshold=196.9)"
   ]
  },
  {
   "cell_type": "code",
   "execution_count": null,
   "metadata": {},
   "outputs": [],
   "source": [
    "39.38"
   ]
  },
  {
   "cell_type": "code",
   "execution_count": null,
   "metadata": {},
   "outputs": [],
   "source": []
  }
 ],
 "metadata": {
  "kernelspec": {
   "display_name": "Python 3 (ipykernel)",
   "language": "python",
   "name": "python3"
  },
  "language_info": {
   "codemirror_mode": {
    "name": "ipython",
    "version": 3
   },
   "file_extension": ".py",
   "mimetype": "text/x-python",
   "name": "python",
   "nbconvert_exporter": "python",
   "pygments_lexer": "ipython3",
   "version": "3.7.11"
  }
 },
 "nbformat": 4,
 "nbformat_minor": 4
}
