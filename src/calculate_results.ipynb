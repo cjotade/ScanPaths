{
 "cells": [
  {
   "cell_type": "code",
   "execution_count": 1,
   "id": "2dfa02b0",
   "metadata": {},
   "outputs": [],
   "source": [
    "import os\n",
    "import re\n",
    "import json\n",
    "import numpy as np\n",
    "import pandas as pd\n",
    "import matplotlib.pyplot as plt\n",
    "import seaborn as sns\n",
    "import scipy.stats as stats\n",
    "from datetime import date"
   ]
  },
  {
   "cell_type": "code",
   "execution_count": 2,
   "id": "8562d73d",
   "metadata": {},
   "outputs": [],
   "source": [
    "%load_ext autoreload\n",
    "%autoreload 2"
   ]
  },
  {
   "cell_type": "code",
   "execution_count": 3,
   "id": "03a9ee82",
   "metadata": {},
   "outputs": [],
   "source": [
    "from sklearn.metrics import mean_squared_error"
   ]
  },
  {
   "cell_type": "code",
   "execution_count": 4,
   "id": "eaa5c49e",
   "metadata": {},
   "outputs": [],
   "source": [
    "from main_classes.DataRetriever import DataGetter, DataSearcher, load_npz\n",
    "from main_classes.ResultDisplayer import (\n",
    "    plot_metric_results, \n",
    "    plot_statistical_groups,\n",
    "    plot_pred,\n",
    "    plot_prediction,\n",
    "    plot_mcdropout,\n",
    "    plot_config_prediction\n",
    ")\n",
    "from utils.process_helpers import split_trials_from_scanpath\n",
    "from main_classes.MetricsCalculator import calculate_multimatch, detect_sac_fix_from_scanpath, calculate_scanmatch\n",
    "\n",
    "from utils.utils import merge_dicts\n",
    "\n",
    "from utils.ScanMatchCalculator import ScanMatch_Struct, ScanMatch_FixationToSequence, ScanMatch \n"
   ]
  },
  {
   "cell_type": "code",
   "execution_count": 5,
   "id": "bd31105f",
   "metadata": {},
   "outputs": [],
   "source": [
    "import warnings\n",
    "warnings.filterwarnings(\"ignore\")"
   ]
  },
  {
   "cell_type": "code",
   "execution_count": 6,
   "id": "215390d0",
   "metadata": {},
   "outputs": [
    {
     "data": {
      "text/plain": [
       "'\\nposscan = \"PosScan\"\\ntest_features_slopes = \"test_features_slopes\"\\ntest_features_lin = \"test_features_lin\"\\ntest_features_pl = \"test_features_pl\"\\ntest_features_local_slopes = \"test_features_local_slopes\"\\ntest_features_GL_slopes = \"test_features_GL_slopes\"\\ntest_features_LC = \"test_features_LC\"\\n'"
      ]
     },
     "execution_count": 6,
     "metadata": {},
     "output_type": "execute_result"
    }
   ],
   "source": [
    "\"\"\"\n",
    "posscan = \"PosScan\"\n",
    "test_features_slopes = \"test_features_slopes\"\n",
    "test_features_lin = \"test_features_lin\"\n",
    "test_features_pl = \"test_features_pl\"\n",
    "test_features_local_slopes = \"test_features_local_slopes\"\n",
    "test_features_GL_slopes = \"test_features_GL_slopes\"\n",
    "test_features_LC = \"test_features_LC\"\n",
    "\"\"\""
   ]
  },
  {
   "cell_type": "code",
   "execution_count": 7,
   "id": "a3709ec9",
   "metadata": {},
   "outputs": [],
   "source": [
    "#model_name = \"FovSOS-FS\"\n",
    "#model_name = \"test_features_LC\"\n",
    "model_name = \"FovSOS-FS_DirectPred\"\n",
    "\n",
    "RESULTS_FOLDER = f\"../results/{model_name}/\" #\"../results/MCDropout/\"\n",
    "SAVE_FOLDER = f\"../results_plots/{model_name}/\"\n",
    "\n",
    "dates_results = {\n",
    "    \"MCD\": \"28072021\",\n",
    "    \"FovSOS-FS\": \"17112021\",\n",
    "    #\"FovSOS-FS_DirectPred\": \"17112021\"\n",
    "    \"FovSOS-FS_DirectPred\": \"25112021\"\n",
    "}"
   ]
  },
  {
   "cell_type": "code",
   "execution_count": 8,
   "id": "4145799f",
   "metadata": {},
   "outputs": [],
   "source": [
    "load_results = False\n",
    "save_results = True\n",
    "only_all_vs_all = True\n",
    "\n",
    "if load_results:\n",
    "    date_results = dates_results[model_name]\n",
    "else:\n",
    "    date_results = date.today().strftime(\"%d%m%Y\")"
   ]
  },
  {
   "cell_type": "code",
   "execution_count": 9,
   "id": "deb9c71b",
   "metadata": {},
   "outputs": [
    {
     "data": {
      "text/plain": [
       "'11072022'"
      ]
     },
     "execution_count": 9,
     "metadata": {},
     "output_type": "execute_result"
    }
   ],
   "source": [
    "date_results"
   ]
  },
  {
   "cell_type": "code",
   "execution_count": 10,
   "id": "09fe514a",
   "metadata": {},
   "outputs": [],
   "source": [
    "#select_metrics = [\"MSE\", \"peak_x\", \"peak_y\", \"dtw\", \"scanmatch\", \"rec\", \"multimatch\"]\n",
    "select_metrics = [\"MSE\", \"peak_x\", \"peak_y\", \"scanmatch\", \"multimatch\"]\n",
    "#select_metrics = [\"MSE\", \"peak_x\", \"peak_y\", \"scanmatch\"]\n",
    "#select_metrics = [\"scanmatch\"]\n",
    "#select_metrics = [\"MSE\"]"
   ]
  },
  {
   "cell_type": "code",
   "execution_count": 11,
   "id": "14923587",
   "metadata": {},
   "outputs": [],
   "source": [
    "if not os.path.exists(f'../results/assets/{model_name}/'):\n",
    "    os.makedirs(f'../results/assets/{model_name}/')"
   ]
  },
  {
   "cell_type": "code",
   "execution_count": 12,
   "id": "8779a0ff",
   "metadata": {},
   "outputs": [],
   "source": [
    "#y_real, y_pred = load_npz(\n",
    "#     os.path.join(RESULTS_FOLDER,\"SUBJECT_s620-tIMG_natural-N_20-Nt_1-SEQ_10-InUts_30-LR_0.0001-EPOCHS_5000-PAT_150\"), \n",
    "#     \"white\")"
   ]
  },
  {
   "cell_type": "code",
   "execution_count": 13,
   "id": "a018b1bc",
   "metadata": {
    "scrolled": true
   },
   "outputs": [],
   "source": [
    "if not only_all_vs_all:\n",
    "    # Load Results\n",
    "    if load_results:\n",
    "        with open(f'../results/assets/{model_name}/results_all_{date_results}.json') as data_file: \n",
    "            all_results = json.load(data_file)\n",
    "    else:\n",
    "        data_getter = DataGetter(RESULTS_FOLDER)\n",
    "        all_results = data_getter.calculate_metrics_results(only_all_vs_all=False, select_metrics=select_metrics)\n",
    "\n",
    "    # Save Results\n",
    "    if save_results:\n",
    "        with open(f'../results/assets/{model_name}/results_all_{date_results}.json', 'w') as f: #results_dict_test\n",
    "            json.dump(all_results, f)"
   ]
  },
  {
   "cell_type": "code",
   "execution_count": 14,
   "id": "8cb53fd9",
   "metadata": {},
   "outputs": [],
   "source": [
    "#all_results[\"natural\"][\"SUBJECT_s605-tIMG_natural-N_20-Nt_1-SEQ_10-InUts_30-LR_0.0001-EPOCHS_5000-PAT_150\"]"
   ]
  },
  {
   "cell_type": "code",
   "execution_count": 15,
   "id": "4e0e0cc4",
   "metadata": {
    "scrolled": true
   },
   "outputs": [
    {
     "name": "stdout",
     "output_type": "stream",
     "text": [
      "SUBJECT_s620-tIMG_inverted-N_1-Nt_5-SEQ_10-InUts_30-LR_0.0001-EPOCHS_5000-PAT_150\n",
      "SUBJECT_s613-tIMG_pink_noise-N_1-Nt_20-SEQ_10-InUts_30-LR_0.0001-EPOCHS_5000-PAT_150\n",
      "SUBJECT_s617-tIMG_white-N_1-Nt_5-SEQ_10-InUts_30-LR_0.0001-EPOCHS_5000-PAT_150\n",
      "SUBJECT_s609-tIMG_black-N_1-Nt_11-SEQ_10-InUts_30-LR_0.0001-EPOCHS_5000-PAT_150\n",
      "SUBJECT_s611-tIMG_white_noise-N_1-Nt_11-SEQ_10-InUts_30-LR_0.0001-EPOCHS_5000-PAT_150\n",
      "SUBJECT_s611-tIMG_grey-N_1-Nt_11-SEQ_10-InUts_30-LR_0.0001-EPOCHS_5000-PAT_150\n",
      "SUBJECT_s622-tIMG_grey-N_1-Nt_11-SEQ_10-InUts_30-LR_0.0001-EPOCHS_5000-PAT_150\n",
      "SUBJECT_s605-tIMG_grey-N_1-Nt_20-SEQ_10-InUts_30-LR_0.0001-EPOCHS_5000-PAT_150\n",
      "SUBJECT_s609-tIMG_grey-N_1-Nt_5-SEQ_10-InUts_30-LR_0.0001-EPOCHS_5000-PAT_150\n",
      "SUBJECT_s616-tIMG_white_noise-N_1-Nt_5-SEQ_10-InUts_30-LR_0.0001-EPOCHS_5000-PAT_150\n",
      "SUBJECT_s620-tIMG_pink_noise-N_1-Nt_20-SEQ_10-InUts_30-LR_0.0001-EPOCHS_5000-PAT_150\n",
      "SUBJECT_s613-tIMG_grey-N_1-Nt_11-SEQ_10-InUts_30-LR_0.0001-EPOCHS_5000-PAT_150\n",
      "SUBJECT_s605-tIMG_inverted-N_1-Nt_11-SEQ_10-InUts_30-LR_0.0001-EPOCHS_5000-PAT_150\n",
      "SUBJECT_s611-tIMG_white-N_1-Nt_5-SEQ_10-InUts_30-LR_0.0001-EPOCHS_5000-PAT_150\n",
      "SUBJECT_s613-tIMG_white_noise-N_1-Nt_5-SEQ_10-InUts_30-LR_0.0001-EPOCHS_5000-PAT_150\n",
      "SUBJECT_s616-tIMG_pink_noise-N_1-Nt_5-SEQ_10-InUts_30-LR_0.0001-EPOCHS_5000-PAT_150\n",
      "SUBJECT_s613-tIMG_pink_noise-N_1-Nt_11-SEQ_10-InUts_30-LR_0.0001-EPOCHS_5000-PAT_150\n",
      "SUBJECT_s620-tIMG_pink_noise-N_1-Nt_1-SEQ_10-InUts_30-LR_0.0001-EPOCHS_5000-PAT_150\n",
      "SUBJECT_s605-tIMG_natural-N_1-Nt_5-SEQ_10-InUts_30-LR_0.0001-EPOCHS_5000-PAT_150\n",
      "SUBJECT_s605-tIMG_inverted-N_1-Nt_20-SEQ_10-InUts_30-LR_0.0001-EPOCHS_5000-PAT_150\n",
      "SUBJECT_s609-tIMG_inverted-N_1-Nt_20-SEQ_10-InUts_30-LR_0.0001-EPOCHS_5000-PAT_150\n",
      "SUBJECT_s619-tIMG_white-N_1-Nt_5-SEQ_10-InUts_30-LR_0.0001-EPOCHS_5000-PAT_150\n",
      "SUBJECT_s617-tIMG_grey-N_1-Nt_5-SEQ_10-InUts_30-LR_0.0001-EPOCHS_5000-PAT_150\n",
      "SUBJECT_s617-tIMG_black-N_1-Nt_1-SEQ_10-InUts_30-LR_0.0001-EPOCHS_5000-PAT_150\n",
      "SUBJECT_s617-tIMG_natural-N_1-Nt_20-SEQ_10-InUts_30-LR_0.0001-EPOCHS_5000-PAT_150\n",
      "SUBJECT_s611-tIMG_inverted-N_1-Nt_5-SEQ_10-InUts_30-LR_0.0001-EPOCHS_5000-PAT_150\n",
      "SUBJECT_s605-tIMG_white-N_1-Nt_5-SEQ_10-InUts_30-LR_0.0001-EPOCHS_5000-PAT_150\n",
      "SUBJECT_s616-tIMG_white-N_1-Nt_11-SEQ_10-InUts_30-LR_0.0001-EPOCHS_5000-PAT_150\n",
      "SUBJECT_s620-tIMG_inverted-N_1-Nt_20-SEQ_10-InUts_30-LR_0.0001-EPOCHS_5000-PAT_150\n",
      "SUBJECT_s620-tIMG_natural-N_1-Nt_5-SEQ_10-InUts_30-LR_0.0001-EPOCHS_5000-PAT_150\n",
      "SUBJECT_s620-tIMG_white-N_1-Nt_11-SEQ_10-InUts_30-LR_0.0001-EPOCHS_5000-PAT_150\n",
      "SUBJECT_s611-tIMG_white_noise-N_1-Nt_1-SEQ_10-InUts_30-LR_0.0001-EPOCHS_5000-PAT_150\n",
      "SUBJECT_s609-tIMG_natural-N_1-Nt_5-SEQ_10-InUts_30-LR_0.0001-EPOCHS_5000-PAT_150\n",
      "SUBJECT_s609-tIMG_natural-N_1-Nt_11-SEQ_10-InUts_30-LR_0.0001-EPOCHS_5000-PAT_150\n",
      "SUBJECT_s605-tIMG_black-N_1-Nt_20-SEQ_10-InUts_30-LR_0.0001-EPOCHS_5000-PAT_150\n",
      "SUBJECT_s622-tIMG_grey-N_1-Nt_5-SEQ_10-InUts_30-LR_0.0001-EPOCHS_5000-PAT_150\n",
      "SUBJECT_s622-tIMG_white_noise-N_1-Nt_1-SEQ_10-InUts_30-LR_0.0001-EPOCHS_5000-PAT_150\n",
      "SUBJECT_s620-tIMG_black-N_1-Nt_1-SEQ_10-InUts_30-LR_0.0001-EPOCHS_5000-PAT_150\n",
      "SUBJECT_s620-tIMG_grey-N_1-Nt_5-SEQ_10-InUts_30-LR_0.0001-EPOCHS_5000-PAT_150\n",
      "SUBJECT_s616-tIMG_pink_noise-N_1-Nt_20-SEQ_10-InUts_30-LR_0.0001-EPOCHS_5000-PAT_150\n",
      "SUBJECT_s620-tIMG_natural-N_1-Nt_20-SEQ_10-InUts_30-LR_0.0001-EPOCHS_5000-PAT_150\n",
      "SUBJECT_s611-tIMG_grey-N_1-Nt_20-SEQ_10-InUts_30-LR_0.0001-EPOCHS_5000-PAT_150\n",
      "SUBJECT_s622-tIMG_inverted-N_1-Nt_5-SEQ_10-InUts_30-LR_0.0001-EPOCHS_5000-PAT_150\n",
      "SUBJECT_s611-tIMG_black-N_1-Nt_11-SEQ_10-InUts_30-LR_0.0001-EPOCHS_5000-PAT_150\n",
      "SUBJECT_s616-tIMG_inverted-N_1-Nt_1-SEQ_10-InUts_30-LR_0.0001-EPOCHS_5000-PAT_150\n",
      "SUBJECT_s613-tIMG_white-N_1-Nt_20-SEQ_10-InUts_30-LR_0.0001-EPOCHS_5000-PAT_150\n",
      "SUBJECT_s620-tIMG_black-N_1-Nt_20-SEQ_10-InUts_30-LR_0.0001-EPOCHS_5000-PAT_150\n",
      "SUBJECT_s613-tIMG_pink_noise-N_1-Nt_5-SEQ_10-InUts_30-LR_0.0001-EPOCHS_5000-PAT_150\n",
      "SUBJECT_s620-tIMG_black-N_1-Nt_5-SEQ_10-InUts_30-LR_0.0001-EPOCHS_5000-PAT_150\n",
      "SUBJECT_s611-tIMG_white_noise-N_1-Nt_5-SEQ_10-InUts_30-LR_0.0001-EPOCHS_5000-PAT_150\n",
      "SUBJECT_s619-tIMG_natural-N_1-Nt_20-SEQ_10-InUts_30-LR_0.0001-EPOCHS_5000-PAT_150\n",
      "SUBJECT_s617-tIMG_black-N_1-Nt_11-SEQ_10-InUts_30-LR_0.0001-EPOCHS_5000-PAT_150\n",
      "SUBJECT_s616-tIMG_grey-N_1-Nt_11-SEQ_10-InUts_30-LR_0.0001-EPOCHS_5000-PAT_150\n",
      "SUBJECT_s616-tIMG_grey-N_1-Nt_20-SEQ_10-InUts_30-LR_0.0001-EPOCHS_5000-PAT_150\n",
      "SUBJECT_s605-tIMG_grey-N_1-Nt_1-SEQ_10-InUts_30-LR_0.0001-EPOCHS_5000-PAT_150\n",
      "SUBJECT_s622-tIMG_white-N_1-Nt_1-SEQ_10-InUts_30-LR_0.0001-EPOCHS_5000-PAT_150\n",
      "SUBJECT_s622-tIMG_pink_noise-N_1-Nt_1-SEQ_10-InUts_30-LR_0.0001-EPOCHS_5000-PAT_150\n",
      "SUBJECT_s619-tIMG_black-N_1-Nt_20-SEQ_10-InUts_30-LR_0.0001-EPOCHS_5000-PAT_150\n",
      "SUBJECT_s605-tIMG_grey-N_1-Nt_11-SEQ_10-InUts_30-LR_0.0001-EPOCHS_5000-PAT_150\n",
      "SUBJECT_s611-tIMG_pink_noise-N_1-Nt_20-SEQ_10-InUts_30-LR_0.0001-EPOCHS_5000-PAT_150\n",
      "SUBJECT_s611-tIMG_white-N_1-Nt_11-SEQ_10-InUts_30-LR_0.0001-EPOCHS_5000-PAT_150\n",
      "SUBJECT_s609-tIMG_white-N_1-Nt_11-SEQ_10-InUts_30-LR_0.0001-EPOCHS_5000-PAT_150\n",
      "SUBJECT_s620-tIMG_grey-N_1-Nt_20-SEQ_10-InUts_30-LR_0.0001-EPOCHS_5000-PAT_150\n",
      "SUBJECT_s616-tIMG_white-N_1-Nt_1-SEQ_10-InUts_30-LR_0.0001-EPOCHS_5000-PAT_150\n",
      "SUBJECT_s619-tIMG_white-N_1-Nt_11-SEQ_10-InUts_30-LR_0.0001-EPOCHS_5000-PAT_150\n",
      "SUBJECT_s613-tIMG_pink_noise-N_1-Nt_1-SEQ_10-InUts_30-LR_0.0001-EPOCHS_5000-PAT_150\n",
      "SUBJECT_s619-tIMG_white_noise-N_1-Nt_20-SEQ_10-InUts_30-LR_0.0001-EPOCHS_5000-PAT_150\n",
      "SUBJECT_s605-tIMG_white_noise-N_1-Nt_20-SEQ_10-InUts_30-LR_0.0001-EPOCHS_5000-PAT_150\n",
      "SUBJECT_s611-tIMG_white-N_1-Nt_20-SEQ_10-InUts_30-LR_0.0001-EPOCHS_5000-PAT_150\n",
      "SUBJECT_s605-tIMG_natural-N_1-Nt_20-SEQ_10-InUts_30-LR_0.0001-EPOCHS_5000-PAT_150\n",
      "SUBJECT_s616-tIMG_black-N_1-Nt_1-SEQ_10-InUts_30-LR_0.0001-EPOCHS_5000-PAT_150\n",
      "SUBJECT_s605-tIMG_black-N_1-Nt_11-SEQ_10-InUts_30-LR_0.0001-EPOCHS_5000-PAT_150\n",
      "SUBJECT_s620-tIMG_natural-N_1-Nt_11-SEQ_10-InUts_30-LR_0.0001-EPOCHS_5000-PAT_150\n",
      "SUBJECT_s613-tIMG_white-N_1-Nt_1-SEQ_10-InUts_30-LR_0.0001-EPOCHS_5000-PAT_150\n",
      "SUBJECT_s622-tIMG_black-N_1-Nt_5-SEQ_10-InUts_30-LR_0.0001-EPOCHS_5000-PAT_150\n",
      "SUBJECT_s605-tIMG_inverted-N_1-Nt_1-SEQ_10-InUts_30-LR_0.0001-EPOCHS_5000-PAT_150\n",
      "SUBJECT_s616-tIMG_natural-N_1-Nt_11-SEQ_10-InUts_30-LR_0.0001-EPOCHS_5000-PAT_150\n",
      "SUBJECT_s616-tIMG_white-N_1-Nt_5-SEQ_10-InUts_30-LR_0.0001-EPOCHS_5000-PAT_150\n",
      "SUBJECT_s613-tIMG_grey-N_1-Nt_20-SEQ_10-InUts_30-LR_0.0001-EPOCHS_5000-PAT_150\n",
      "SUBJECT_s622-tIMG_inverted-N_1-Nt_1-SEQ_10-InUts_30-LR_0.0001-EPOCHS_5000-PAT_150\n",
      "SUBJECT_s605-tIMG_black-N_1-Nt_5-SEQ_10-InUts_30-LR_0.0001-EPOCHS_5000-PAT_150\n",
      "SUBJECT_s611-tIMG_natural-N_1-Nt_20-SEQ_10-InUts_30-LR_0.0001-EPOCHS_5000-PAT_150\n",
      "SUBJECT_s617-tIMG_white-N_1-Nt_20-SEQ_10-InUts_30-LR_0.0001-EPOCHS_5000-PAT_150\n",
      "SUBJECT_s619-tIMG_grey-N_1-Nt_11-SEQ_10-InUts_30-LR_0.0001-EPOCHS_5000-PAT_150\n",
      "SUBJECT_s622-tIMG_pink_noise-N_1-Nt_5-SEQ_10-InUts_30-LR_0.0001-EPOCHS_5000-PAT_150\n",
      "SUBJECT_s617-tIMG_black-N_1-Nt_20-SEQ_10-InUts_30-LR_0.0001-EPOCHS_5000-PAT_150\n",
      "SUBJECT_s613-tIMG_black-N_1-Nt_11-SEQ_10-InUts_30-LR_0.0001-EPOCHS_5000-PAT_150\n",
      "SUBJECT_s609-tIMG_black-N_1-Nt_5-SEQ_10-InUts_30-LR_0.0001-EPOCHS_5000-PAT_150\n",
      "SUBJECT_s611-tIMG_black-N_1-Nt_20-SEQ_10-InUts_30-LR_0.0001-EPOCHS_5000-PAT_150\n",
      "SUBJECT_s605-tIMG_white-N_1-Nt_20-SEQ_10-InUts_30-LR_0.0001-EPOCHS_5000-PAT_150\n",
      "SUBJECT_s620-tIMG_white_noise-N_1-Nt_20-SEQ_10-InUts_30-LR_0.0001-EPOCHS_5000-PAT_150\n",
      "SUBJECT_s622-tIMG_white_noise-N_1-Nt_5-SEQ_10-InUts_30-LR_0.0001-EPOCHS_5000-PAT_150\n",
      "SUBJECT_s613-tIMG_natural-N_1-Nt_20-SEQ_10-InUts_30-LR_0.0001-EPOCHS_5000-PAT_150\n",
      "SUBJECT_s609-tIMG_white_noise-N_1-Nt_11-SEQ_10-InUts_30-LR_0.0001-EPOCHS_5000-PAT_150\n",
      "SUBJECT_s605-tIMG_white_noise-N_1-Nt_11-SEQ_10-InUts_30-LR_0.0001-EPOCHS_5000-PAT_150\n",
      "SUBJECT_s620-tIMG_white-N_1-Nt_5-SEQ_10-InUts_30-LR_0.0001-EPOCHS_5000-PAT_150\n",
      "SUBJECT_s613-tIMG_white_noise-N_1-Nt_20-SEQ_10-InUts_30-LR_0.0001-EPOCHS_5000-PAT_150\n",
      "SUBJECT_s609-tIMG_white-N_1-Nt_20-SEQ_10-InUts_30-LR_0.0001-EPOCHS_5000-PAT_150\n",
      "SUBJECT_s617-tIMG_natural-N_1-Nt_11-SEQ_10-InUts_30-LR_0.0001-EPOCHS_5000-PAT_150\n",
      "SUBJECT_s622-tIMG_grey-N_1-Nt_20-SEQ_10-InUts_30-LR_0.0001-EPOCHS_5000-PAT_150\n",
      "SUBJECT_s617-tIMG_natural-N_1-Nt_1-SEQ_10-InUts_30-LR_0.0001-EPOCHS_5000-PAT_150\n",
      "===========> Loading npz data from natural images\n"
     ]
    },
    {
     "name": "stdout",
     "output_type": "stream",
     "text": [
      "===========> Loading npz data from natural images\n"
     ]
    },
    {
     "name": "stderr",
     "output_type": "stream",
     "text": [
      "/home/camilojd/anaconda3/envs/scanpath-env/lib/python3.7/site-packages/elephant/conversion.py:1169: UserWarning: Binning discarded 1 last spike(s) of the input spiketrain\n",
      "  \"input spiketrain\".format(n_discarded))\n"
     ]
    },
    {
     "name": "stdout",
     "output_type": "stream",
     "text": [
      "===========> Loading npz data from natural images\n"
     ]
    },
    {
     "name": "stderr",
     "output_type": "stream",
     "text": [
      "/home/camilojd/anaconda3/envs/scanpath-env/lib/python3.7/site-packages/elephant/conversion.py:1169: UserWarning: Binning discarded 1 last spike(s) of the input spiketrain\n",
      "  \"input spiketrain\".format(n_discarded))\n"
     ]
    },
    {
     "name": "stdout",
     "output_type": "stream",
     "text": [
      "===========> Loading npz data from natural images\n"
     ]
    },
    {
     "name": "stderr",
     "output_type": "stream",
     "text": [
      "/home/camilojd/anaconda3/envs/scanpath-env/lib/python3.7/site-packages/elephant/conversion.py:1169: UserWarning: Binning discarded 1 last spike(s) of the input spiketrain\n",
      "  \"input spiketrain\".format(n_discarded))\n"
     ]
    },
    {
     "name": "stdout",
     "output_type": "stream",
     "text": [
      "===========> Loading npz data from natural images\n",
      "===========> Loading npz data from natural images\n",
      "===========> Loading npz data from natural images\n"
     ]
    },
    {
     "name": "stderr",
     "output_type": "stream",
     "text": [
      "/home/camilojd/anaconda3/envs/scanpath-env/lib/python3.7/site-packages/elephant/conversion.py:1169: UserWarning: Binning discarded 1 last spike(s) of the input spiketrain\n",
      "  \"input spiketrain\".format(n_discarded))\n"
     ]
    },
    {
     "name": "stdout",
     "output_type": "stream",
     "text": [
      "===========> Loading npz data from natural images\n",
      "SUBJECT_s611-tIMG_inverted-N_1-Nt_1-SEQ_10-InUts_30-LR_0.0001-EPOCHS_5000-PAT_150\n",
      "SUBJECT_s617-tIMG_natural-N_1-Nt_5-SEQ_10-InUts_30-LR_0.0001-EPOCHS_5000-PAT_150\n",
      "SUBJECT_s605-tIMG_white_noise-N_1-Nt_1-SEQ_10-InUts_30-LR_0.0001-EPOCHS_5000-PAT_150\n",
      "SUBJECT_s620-tIMG_grey-N_1-Nt_11-SEQ_10-InUts_30-LR_0.0001-EPOCHS_5000-PAT_150\n",
      "SUBJECT_s622-tIMG_natural-N_1-Nt_20-SEQ_10-InUts_30-LR_0.0001-EPOCHS_5000-PAT_150\n",
      "SUBJECT_s622-tIMG_inverted-N_1-Nt_20-SEQ_10-InUts_30-LR_0.0001-EPOCHS_5000-PAT_150\n",
      "SUBJECT_s616-tIMG_black-N_1-Nt_20-SEQ_10-InUts_30-LR_0.0001-EPOCHS_5000-PAT_150\n",
      "SUBJECT_s616-tIMG_inverted-N_1-Nt_20-SEQ_10-InUts_30-LR_0.0001-EPOCHS_5000-PAT_150\n",
      "SUBJECT_s616-tIMG_inverted-N_1-Nt_11-SEQ_10-InUts_30-LR_0.0001-EPOCHS_5000-PAT_150\n",
      "SUBJECT_s613-tIMG_natural-N_1-Nt_5-SEQ_10-InUts_30-LR_0.0001-EPOCHS_5000-PAT_150\n",
      "SUBJECT_s619-tIMG_pink_noise-N_1-Nt_20-SEQ_10-InUts_30-LR_0.0001-EPOCHS_5000-PAT_150\n",
      "SUBJECT_s619-tIMG_inverted-N_1-Nt_1-SEQ_10-InUts_30-LR_0.0001-EPOCHS_5000-PAT_150\n",
      "SUBJECT_s617-tIMG_white-N_1-Nt_1-SEQ_10-InUts_30-LR_0.0001-EPOCHS_5000-PAT_150\n",
      "SUBJECT_s613-tIMG_white_noise-N_1-Nt_11-SEQ_10-InUts_30-LR_0.0001-EPOCHS_5000-PAT_150\n",
      "SUBJECT_s605-tIMG_pink_noise-N_1-Nt_1-SEQ_10-InUts_30-LR_0.0001-EPOCHS_5000-PAT_150\n",
      "SUBJECT_s605-tIMG_pink_noise-N_1-Nt_5-SEQ_10-InUts_30-LR_0.0001-EPOCHS_5000-PAT_150\n",
      "SUBJECT_s617-tIMG_inverted-N_1-Nt_1-SEQ_10-InUts_30-LR_0.0001-EPOCHS_5000-PAT_150\n",
      "SUBJECT_s609-tIMG_grey-N_1-Nt_20-SEQ_10-InUts_30-LR_0.0001-EPOCHS_5000-PAT_150\n",
      "SUBJECT_s620-tIMG_inverted-N_1-Nt_11-SEQ_10-InUts_30-LR_0.0001-EPOCHS_5000-PAT_150\n",
      "SUBJECT_s622-tIMG_white-N_1-Nt_11-SEQ_10-InUts_30-LR_0.0001-EPOCHS_5000-PAT_150\n",
      "SUBJECT_s622-tIMG_black-N_1-Nt_1-SEQ_10-InUts_30-LR_0.0001-EPOCHS_5000-PAT_150\n",
      "SUBJECT_s613-tIMG_inverted-N_1-Nt_11-SEQ_10-InUts_30-LR_0.0001-EPOCHS_5000-PAT_150\n",
      "SUBJECT_s609-tIMG_white_noise-N_1-Nt_20-SEQ_10-InUts_30-LR_0.0001-EPOCHS_5000-PAT_150\n",
      "SUBJECT_s617-tIMG_inverted-N_1-Nt_11-SEQ_10-InUts_30-LR_0.0001-EPOCHS_5000-PAT_150\n",
      "SUBJECT_s622-tIMG_inverted-N_1-Nt_11-SEQ_10-InUts_30-LR_0.0001-EPOCHS_5000-PAT_150\n",
      "SUBJECT_s609-tIMG_inverted-N_1-Nt_5-SEQ_10-InUts_30-LR_0.0001-EPOCHS_5000-PAT_150\n",
      "SUBJECT_s616-tIMG_white-N_1-Nt_20-SEQ_10-InUts_30-LR_0.0001-EPOCHS_5000-PAT_150\n",
      "SUBJECT_s611-tIMG_inverted-N_1-Nt_11-SEQ_10-InUts_30-LR_0.0001-EPOCHS_5000-PAT_150\n",
      "SUBJECT_s622-tIMG_black-N_1-Nt_11-SEQ_10-InUts_30-LR_0.0001-EPOCHS_5000-PAT_150\n",
      "SUBJECT_s617-tIMG_white_noise-N_1-Nt_20-SEQ_10-InUts_30-LR_0.0001-EPOCHS_5000-PAT_150\n",
      "SUBJECT_s605-tIMG_pink_noise-N_1-Nt_11-SEQ_10-InUts_30-LR_0.0001-EPOCHS_5000-PAT_150\n",
      "SUBJECT_s619-tIMG_black-N_1-Nt_5-SEQ_10-InUts_30-LR_0.0001-EPOCHS_5000-PAT_150\n",
      "SUBJECT_s616-tIMG_inverted-N_1-Nt_5-SEQ_10-InUts_30-LR_0.0001-EPOCHS_5000-PAT_150\n",
      "SUBJECT_s622-tIMG_grey-N_1-Nt_1-SEQ_10-InUts_30-LR_0.0001-EPOCHS_5000-PAT_150\n",
      "SUBJECT_s605-tIMG_black-N_1-Nt_1-SEQ_10-InUts_30-LR_0.0001-EPOCHS_5000-PAT_150\n",
      "SUBJECT_s622-tIMG_natural-N_1-Nt_11-SEQ_10-InUts_30-LR_0.0001-EPOCHS_5000-PAT_150\n",
      "SUBJECT_s613-tIMG_grey-N_1-Nt_1-SEQ_10-InUts_30-LR_0.0001-EPOCHS_5000-PAT_150\n",
      "SUBJECT_s611-tIMG_natural-N_1-Nt_1-SEQ_10-InUts_30-LR_0.0001-EPOCHS_5000-PAT_150\n",
      "===========> Loading npz data from natural images\n",
      "===========> Loading npz data from natural images\n"
     ]
    },
    {
     "name": "stderr",
     "output_type": "stream",
     "text": [
      "/home/camilojd/anaconda3/envs/scanpath-env/lib/python3.7/site-packages/elephant/conversion.py:1169: UserWarning: Binning discarded 1 last spike(s) of the input spiketrain\n",
      "  \"input spiketrain\".format(n_discarded))\n"
     ]
    },
    {
     "name": "stdout",
     "output_type": "stream",
     "text": [
      "===========> Loading npz data from natural images\n"
     ]
    },
    {
     "name": "stderr",
     "output_type": "stream",
     "text": [
      "/home/camilojd/anaconda3/envs/scanpath-env/lib/python3.7/site-packages/elephant/conversion.py:1169: UserWarning: Binning discarded 1 last spike(s) of the input spiketrain\n",
      "  \"input spiketrain\".format(n_discarded))\n"
     ]
    },
    {
     "name": "stdout",
     "output_type": "stream",
     "text": [
      "===========> Loading npz data from natural images\n"
     ]
    },
    {
     "name": "stderr",
     "output_type": "stream",
     "text": [
      "/home/camilojd/anaconda3/envs/scanpath-env/lib/python3.7/site-packages/elephant/conversion.py:1169: UserWarning: Binning discarded 1 last spike(s) of the input spiketrain\n",
      "  \"input spiketrain\".format(n_discarded))\n"
     ]
    },
    {
     "name": "stdout",
     "output_type": "stream",
     "text": [
      "===========> Loading npz data from natural images\n",
      "===========> Loading npz data from natural images\n",
      "===========> Loading npz data from natural images\n"
     ]
    },
    {
     "name": "stderr",
     "output_type": "stream",
     "text": [
      "/home/camilojd/anaconda3/envs/scanpath-env/lib/python3.7/site-packages/elephant/conversion.py:1169: UserWarning: Binning discarded 1 last spike(s) of the input spiketrain\n",
      "  \"input spiketrain\".format(n_discarded))\n"
     ]
    },
    {
     "name": "stdout",
     "output_type": "stream",
     "text": [
      "===========> Loading npz data from natural images\n",
      "SUBJECT_s611-tIMG_inverted-N_1-Nt_20-SEQ_10-InUts_30-LR_0.0001-EPOCHS_5000-PAT_150\n",
      "SUBJECT_s611-tIMG_natural-N_1-Nt_5-SEQ_10-InUts_30-LR_0.0001-EPOCHS_5000-PAT_150\n",
      "SUBJECT_s609-tIMG_inverted-N_1-Nt_11-SEQ_10-InUts_30-LR_0.0001-EPOCHS_5000-PAT_150\n",
      "SUBJECT_s605-tIMG_pink_noise-N_1-Nt_20-SEQ_10-InUts_30-LR_0.0001-EPOCHS_5000-PAT_150\n",
      "SUBJECT_s617-tIMG_white_noise-N_1-Nt_11-SEQ_10-InUts_30-LR_0.0001-EPOCHS_5000-PAT_150\n",
      "SUBJECT_s617-tIMG_inverted-N_1-Nt_5-SEQ_10-InUts_30-LR_0.0001-EPOCHS_5000-PAT_150\n",
      "SUBJECT_s617-tIMG_white_noise-N_1-Nt_5-SEQ_10-InUts_30-LR_0.0001-EPOCHS_5000-PAT_150\n",
      "SUBJECT_s609-tIMG_white-N_1-Nt_1-SEQ_10-InUts_30-LR_0.0001-EPOCHS_5000-PAT_150\n",
      "SUBJECT_s617-tIMG_pink_noise-N_1-Nt_11-SEQ_10-InUts_30-LR_0.0001-EPOCHS_5000-PAT_150\n",
      "SUBJECT_s613-tIMG_inverted-N_1-Nt_20-SEQ_10-InUts_30-LR_0.0001-EPOCHS_5000-PAT_150\n",
      "SUBJECT_s617-tIMG_grey-N_1-Nt_11-SEQ_10-InUts_30-LR_0.0001-EPOCHS_5000-PAT_150\n",
      "SUBJECT_s619-tIMG_white_noise-N_1-Nt_11-SEQ_10-InUts_30-LR_0.0001-EPOCHS_5000-PAT_150\n",
      "SUBJECT_s617-tIMG_grey-N_1-Nt_20-SEQ_10-InUts_30-LR_0.0001-EPOCHS_5000-PAT_150\n",
      "SUBJECT_s619-tIMG_inverted-N_1-Nt_5-SEQ_10-InUts_30-LR_0.0001-EPOCHS_5000-PAT_150\n",
      "SUBJECT_s611-tIMG_pink_noise-N_1-Nt_11-SEQ_10-InUts_30-LR_0.0001-EPOCHS_5000-PAT_150\n",
      "SUBJECT_s609-tIMG_pink_noise-N_1-Nt_1-SEQ_10-InUts_30-LR_0.0001-EPOCHS_5000-PAT_150\n",
      "SUBJECT_s616-tIMG_black-N_1-Nt_11-SEQ_10-InUts_30-LR_0.0001-EPOCHS_5000-PAT_150\n",
      "SUBJECT_s609-tIMG_grey-N_1-Nt_1-SEQ_10-InUts_30-LR_0.0001-EPOCHS_5000-PAT_150\n",
      "SUBJECT_s619-tIMG_pink_noise-N_1-Nt_5-SEQ_10-InUts_30-LR_0.0001-EPOCHS_5000-PAT_150\n",
      "SUBJECT_s609-tIMG_black-N_1-Nt_20-SEQ_10-InUts_30-LR_0.0001-EPOCHS_5000-PAT_150\n",
      "SUBJECT_s605-tIMG_natural-N_1-Nt_1-SEQ_10-InUts_30-LR_0.0001-EPOCHS_5000-PAT_150\n",
      "===========> Loading npz data from natural images\n",
      "===========> Loading npz data from natural images\n",
      "===========> Loading npz data from natural images\n"
     ]
    },
    {
     "name": "stderr",
     "output_type": "stream",
     "text": [
      "/home/camilojd/anaconda3/envs/scanpath-env/lib/python3.7/site-packages/elephant/conversion.py:1169: UserWarning: Binning discarded 1 last spike(s) of the input spiketrain\n",
      "  \"input spiketrain\".format(n_discarded))\n"
     ]
    },
    {
     "name": "stdout",
     "output_type": "stream",
     "text": [
      "===========> Loading npz data from natural images\n"
     ]
    },
    {
     "name": "stderr",
     "output_type": "stream",
     "text": [
      "/home/camilojd/anaconda3/envs/scanpath-env/lib/python3.7/site-packages/elephant/conversion.py:1169: UserWarning: Binning discarded 1 last spike(s) of the input spiketrain\n",
      "  \"input spiketrain\".format(n_discarded))\n"
     ]
    },
    {
     "name": "stdout",
     "output_type": "stream",
     "text": [
      "===========> Loading npz data from natural images\n",
      "===========> Loading npz data from natural images\n",
      "===========> Loading npz data from natural images\n"
     ]
    },
    {
     "name": "stderr",
     "output_type": "stream",
     "text": [
      "/home/camilojd/anaconda3/envs/scanpath-env/lib/python3.7/site-packages/elephant/conversion.py:1169: UserWarning: Binning discarded 1 last spike(s) of the input spiketrain\n",
      "  \"input spiketrain\".format(n_discarded))\n"
     ]
    },
    {
     "name": "stdout",
     "output_type": "stream",
     "text": [
      "===========> Loading npz data from natural images\n",
      "SUBJECT_s616-tIMG_natural-N_1-Nt_20-SEQ_10-InUts_30-LR_0.0001-EPOCHS_5000-PAT_150\n",
      "SUBJECT_s613-tIMG_black-N_1-Nt_1-SEQ_10-InUts_30-LR_0.0001-EPOCHS_5000-PAT_150\n",
      "SUBJECT_s622-tIMG_natural-N_1-Nt_1-SEQ_10-InUts_30-LR_0.0001-EPOCHS_5000-PAT_150\n",
      "===========> Loading npz data from natural images\n",
      "===========> Loading npz data from natural images\n",
      "===========> Loading npz data from natural images\n",
      "===========> Loading npz data from natural images\n",
      "===========> Loading npz data from natural images\n",
      "===========> Loading npz data from natural images\n",
      "===========> Loading npz data from natural images\n"
     ]
    },
    {
     "name": "stderr",
     "output_type": "stream",
     "text": [
      "/home/camilojd/anaconda3/envs/scanpath-env/lib/python3.7/site-packages/elephant/conversion.py:1169: UserWarning: Binning discarded 1 last spike(s) of the input spiketrain\n",
      "  \"input spiketrain\".format(n_discarded))\n"
     ]
    },
    {
     "name": "stdout",
     "output_type": "stream",
     "text": [
      "===========> Loading npz data from natural images\n",
      "SUBJECT_s620-tIMG_pink_noise-N_1-Nt_11-SEQ_10-InUts_30-LR_0.0001-EPOCHS_5000-PAT_150\n",
      "SUBJECT_s613-tIMG_inverted-N_1-Nt_5-SEQ_10-InUts_30-LR_0.0001-EPOCHS_5000-PAT_150\n",
      "SUBJECT_s609-tIMG_pink_noise-N_1-Nt_11-SEQ_10-InUts_30-LR_0.0001-EPOCHS_5000-PAT_150\n",
      "SUBJECT_s619-tIMG_grey-N_1-Nt_1-SEQ_10-InUts_30-LR_0.0001-EPOCHS_5000-PAT_150\n",
      "SUBJECT_s619-tIMG_white-N_1-Nt_1-SEQ_10-InUts_30-LR_0.0001-EPOCHS_5000-PAT_150\n",
      "SUBJECT_s619-tIMG_black-N_1-Nt_1-SEQ_10-InUts_30-LR_0.0001-EPOCHS_5000-PAT_150\n",
      "SUBJECT_s605-tIMG_white_noise-N_1-Nt_5-SEQ_10-InUts_30-LR_0.0001-EPOCHS_5000-PAT_150\n",
      "SUBJECT_s620-tIMG_white-N_1-Nt_1-SEQ_10-InUts_30-LR_0.0001-EPOCHS_5000-PAT_150\n",
      "SUBJECT_s619-tIMG_natural-N_1-Nt_11-SEQ_10-InUts_30-LR_0.0001-EPOCHS_5000-PAT_150\n",
      "SUBJECT_s613-tIMG_white-N_1-Nt_11-SEQ_10-InUts_30-LR_0.0001-EPOCHS_5000-PAT_150\n",
      "SUBJECT_s620-tIMG_white_noise-N_1-Nt_5-SEQ_10-InUts_30-LR_0.0001-EPOCHS_5000-PAT_150\n",
      "SUBJECT_s616-tIMG_black-N_1-Nt_5-SEQ_10-InUts_30-LR_0.0001-EPOCHS_5000-PAT_150\n",
      "SUBJECT_s616-tIMG_grey-N_1-Nt_1-SEQ_10-InUts_30-LR_0.0001-EPOCHS_5000-PAT_150\n",
      "SUBJECT_s619-tIMG_natural-N_1-Nt_5-SEQ_10-InUts_30-LR_0.0001-EPOCHS_5000-PAT_150\n",
      "SUBJECT_s611-tIMG_natural-N_1-Nt_11-SEQ_10-InUts_30-LR_0.0001-EPOCHS_5000-PAT_150\n",
      "SUBJECT_s619-tIMG_white-N_1-Nt_20-SEQ_10-InUts_30-LR_0.0001-EPOCHS_5000-PAT_150\n",
      "SUBJECT_s616-tIMG_grey-N_1-Nt_5-SEQ_10-InUts_30-LR_0.0001-EPOCHS_5000-PAT_150\n",
      "SUBJECT_s609-tIMG_white-N_1-Nt_5-SEQ_10-InUts_30-LR_0.0001-EPOCHS_5000-PAT_150\n",
      "SUBJECT_s617-tIMG_pink_noise-N_1-Nt_1-SEQ_10-InUts_30-LR_0.0001-EPOCHS_5000-PAT_150\n",
      "SUBJECT_s622-tIMG_pink_noise-N_1-Nt_11-SEQ_10-InUts_30-LR_0.0001-EPOCHS_5000-PAT_150\n",
      "SUBJECT_s611-tIMG_black-N_1-Nt_5-SEQ_10-InUts_30-LR_0.0001-EPOCHS_5000-PAT_150\n",
      "SUBJECT_s620-tIMG_white-N_1-Nt_20-SEQ_10-InUts_30-LR_0.0001-EPOCHS_5000-PAT_150\n",
      "SUBJECT_s617-tIMG_white_noise-N_1-Nt_1-SEQ_10-InUts_30-LR_0.0001-EPOCHS_5000-PAT_150\n",
      "SUBJECT_s622-tIMG_white-N_1-Nt_20-SEQ_10-InUts_30-LR_0.0001-EPOCHS_5000-PAT_150\n",
      "SUBJECT_s613-tIMG_natural-N_1-Nt_11-SEQ_10-InUts_30-LR_0.0001-EPOCHS_5000-PAT_150\n",
      "SUBJECT_s619-tIMG_pink_noise-N_1-Nt_1-SEQ_10-InUts_30-LR_0.0001-EPOCHS_5000-PAT_150\n",
      "SUBJECT_s617-tIMG_pink_noise-N_1-Nt_20-SEQ_10-InUts_30-LR_0.0001-EPOCHS_5000-PAT_150\n",
      "SUBJECT_s620-tIMG_white_noise-N_1-Nt_1-SEQ_10-InUts_30-LR_0.0001-EPOCHS_5000-PAT_150\n",
      "SUBJECT_s622-tIMG_natural-N_1-Nt_5-SEQ_10-InUts_30-LR_0.0001-EPOCHS_5000-PAT_150\n",
      "SUBJECT_s620-tIMG_grey-N_1-Nt_1-SEQ_10-InUts_30-LR_0.0001-EPOCHS_5000-PAT_150\n",
      "SUBJECT_s620-tIMG_natural-N_1-Nt_1-SEQ_10-InUts_30-LR_0.0001-EPOCHS_5000-PAT_150\n",
      "===========> Loading npz data from natural images\n",
      "===========> Loading npz data from natural images\n",
      "===========> Loading npz data from natural images\n",
      "===========> Loading npz data from natural images\n"
     ]
    },
    {
     "name": "stderr",
     "output_type": "stream",
     "text": [
      "/home/camilojd/anaconda3/envs/scanpath-env/lib/python3.7/site-packages/elephant/conversion.py:1169: UserWarning: Binning discarded 1 last spike(s) of the input spiketrain\n",
      "  \"input spiketrain\".format(n_discarded))\n"
     ]
    },
    {
     "name": "stdout",
     "output_type": "stream",
     "text": [
      "===========> Loading npz data from natural images\n",
      "===========> Loading npz data from natural images\n",
      "===========> Loading npz data from natural images\n"
     ]
    },
    {
     "name": "stderr",
     "output_type": "stream",
     "text": [
      "/home/camilojd/anaconda3/envs/scanpath-env/lib/python3.7/site-packages/elephant/conversion.py:1169: UserWarning: Binning discarded 1 last spike(s) of the input spiketrain\n",
      "  \"input spiketrain\".format(n_discarded))\n"
     ]
    },
    {
     "name": "stdout",
     "output_type": "stream",
     "text": [
      "===========> Loading npz data from natural images\n",
      "SUBJECT_s611-tIMG_pink_noise-N_1-Nt_1-SEQ_10-InUts_30-LR_0.0001-EPOCHS_5000-PAT_150\n",
      "SUBJECT_s613-tIMG_natural-N_1-Nt_1-SEQ_10-InUts_30-LR_0.0001-EPOCHS_5000-PAT_150\n",
      "===========> Loading npz data from natural images\n",
      "===========> Loading npz data from natural images\n",
      "===========> Loading npz data from natural images\n",
      "===========> Loading npz data from natural images\n"
     ]
    },
    {
     "name": "stderr",
     "output_type": "stream",
     "text": [
      "/home/camilojd/anaconda3/envs/scanpath-env/lib/python3.7/site-packages/elephant/conversion.py:1169: UserWarning: Binning discarded 1 last spike(s) of the input spiketrain\n",
      "  \"input spiketrain\".format(n_discarded))\n"
     ]
    },
    {
     "name": "stdout",
     "output_type": "stream",
     "text": [
      "===========> Loading npz data from natural images\n"
     ]
    },
    {
     "name": "stderr",
     "output_type": "stream",
     "text": [
      "/home/camilojd/anaconda3/envs/scanpath-env/lib/python3.7/site-packages/elephant/conversion.py:1169: UserWarning: Binning discarded 1 last spike(s) of the input spiketrain\n",
      "  \"input spiketrain\".format(n_discarded))\n"
     ]
    },
    {
     "name": "stdout",
     "output_type": "stream",
     "text": [
      "===========> Loading npz data from natural images\n",
      "===========> Loading npz data from natural images\n"
     ]
    },
    {
     "name": "stderr",
     "output_type": "stream",
     "text": [
      "/home/camilojd/anaconda3/envs/scanpath-env/lib/python3.7/site-packages/elephant/conversion.py:1169: UserWarning: Binning discarded 1 last spike(s) of the input spiketrain\n",
      "  \"input spiketrain\".format(n_discarded))\n"
     ]
    },
    {
     "name": "stdout",
     "output_type": "stream",
     "text": [
      "===========> Loading npz data from natural images\n",
      "SUBJECT_s617-tIMG_white-N_1-Nt_11-SEQ_10-InUts_30-LR_0.0001-EPOCHS_5000-PAT_150\n",
      "SUBJECT_s619-tIMG_inverted-N_1-Nt_11-SEQ_10-InUts_30-LR_0.0001-EPOCHS_5000-PAT_150\n",
      "SUBJECT_s617-tIMG_black-N_1-Nt_5-SEQ_10-InUts_30-LR_0.0001-EPOCHS_5000-PAT_150\n",
      "SUBJECT_s613-tIMG_white-N_1-Nt_5-SEQ_10-InUts_30-LR_0.0001-EPOCHS_5000-PAT_150\n",
      "SUBJECT_s611-tIMG_black-N_1-Nt_1-SEQ_10-InUts_30-LR_0.0001-EPOCHS_5000-PAT_150\n",
      "SUBJECT_s620-tIMG_pink_noise-N_1-Nt_5-SEQ_10-InUts_30-LR_0.0001-EPOCHS_5000-PAT_150\n",
      "SUBJECT_s611-tIMG_grey-N_1-Nt_1-SEQ_10-InUts_30-LR_0.0001-EPOCHS_5000-PAT_150\n",
      "SUBJECT_s622-tIMG_white_noise-N_1-Nt_20-SEQ_10-InUts_30-LR_0.0001-EPOCHS_5000-PAT_150\n",
      "SUBJECT_s609-tIMG_white_noise-N_1-Nt_5-SEQ_10-InUts_30-LR_0.0001-EPOCHS_5000-PAT_150\n",
      "SUBJECT_s609-tIMG_pink_noise-N_1-Nt_20-SEQ_10-InUts_30-LR_0.0001-EPOCHS_5000-PAT_150\n",
      "SUBJECT_s613-tIMG_black-N_1-Nt_5-SEQ_10-InUts_30-LR_0.0001-EPOCHS_5000-PAT_150\n",
      "SUBJECT_s605-tIMG_grey-N_1-Nt_5-SEQ_10-InUts_30-LR_0.0001-EPOCHS_5000-PAT_150\n",
      "SUBJECT_s616-tIMG_pink_noise-N_1-Nt_11-SEQ_10-InUts_30-LR_0.0001-EPOCHS_5000-PAT_150\n",
      "SUBJECT_s619-tIMG_black-N_1-Nt_11-SEQ_10-InUts_30-LR_0.0001-EPOCHS_5000-PAT_150\n",
      "SUBJECT_s613-tIMG_inverted-N_1-Nt_1-SEQ_10-InUts_30-LR_0.0001-EPOCHS_5000-PAT_150\n",
      "SUBJECT_s622-tIMG_pink_noise-N_1-Nt_20-SEQ_10-InUts_30-LR_0.0001-EPOCHS_5000-PAT_150\n",
      "SUBJECT_s609-tIMG_inverted-N_1-Nt_1-SEQ_10-InUts_30-LR_0.0001-EPOCHS_5000-PAT_150\n",
      "SUBJECT_s616-tIMG_white_noise-N_1-Nt_1-SEQ_10-InUts_30-LR_0.0001-EPOCHS_5000-PAT_150\n",
      "SUBJECT_s620-tIMG_inverted-N_1-Nt_1-SEQ_10-InUts_30-LR_0.0001-EPOCHS_5000-PAT_150\n",
      "SUBJECT_s616-tIMG_natural-N_1-Nt_1-SEQ_10-InUts_30-LR_0.0001-EPOCHS_5000-PAT_150\n",
      "SUBJECT_s619-tIMG_white_noise-N_1-Nt_1-SEQ_10-InUts_30-LR_0.0001-EPOCHS_5000-PAT_150\n",
      "SUBJECT_s617-tIMG_inverted-N_1-Nt_20-SEQ_10-InUts_30-LR_0.0001-EPOCHS_5000-PAT_150\n",
      "SUBJECT_s609-tIMG_natural-N_1-Nt_1-SEQ_10-InUts_30-LR_0.0001-EPOCHS_5000-PAT_150\n",
      "SUBJECT_s619-tIMG_white_noise-N_1-Nt_5-SEQ_10-InUts_30-LR_0.0001-EPOCHS_5000-PAT_150\n",
      "SUBJECT_s619-tIMG_grey-N_1-Nt_20-SEQ_10-InUts_30-LR_0.0001-EPOCHS_5000-PAT_150\n",
      "SUBJECT_s617-tIMG_pink_noise-N_1-Nt_5-SEQ_10-InUts_30-LR_0.0001-EPOCHS_5000-PAT_150\n",
      "SUBJECT_s613-tIMG_white_noise-N_1-Nt_1-SEQ_10-InUts_30-LR_0.0001-EPOCHS_5000-PAT_150\n",
      "SUBJECT_s611-tIMG_grey-N_1-Nt_5-SEQ_10-InUts_30-LR_0.0001-EPOCHS_5000-PAT_150\n",
      "SUBJECT_s611-tIMG_white-N_1-Nt_1-SEQ_10-InUts_30-LR_0.0001-EPOCHS_5000-PAT_150\n",
      "SUBJECT_s613-tIMG_grey-N_1-Nt_5-SEQ_10-InUts_30-LR_0.0001-EPOCHS_5000-PAT_150\n",
      "SUBJECT_s616-tIMG_pink_noise-N_1-Nt_1-SEQ_10-InUts_30-LR_0.0001-EPOCHS_5000-PAT_150\n",
      "SUBJECT_s622-tIMG_black-N_1-Nt_20-SEQ_10-InUts_30-LR_0.0001-EPOCHS_5000-PAT_150\n",
      "SUBJECT_s605-tIMG_white-N_1-Nt_1-SEQ_10-InUts_30-LR_0.0001-EPOCHS_5000-PAT_150\n",
      "SUBJECT_s616-tIMG_white_noise-N_1-Nt_20-SEQ_10-InUts_30-LR_0.0001-EPOCHS_5000-PAT_150\n",
      "SUBJECT_s605-tIMG_white-N_1-Nt_11-SEQ_10-InUts_30-LR_0.0001-EPOCHS_5000-PAT_150\n",
      "SUBJECT_s616-tIMG_natural-N_1-Nt_5-SEQ_10-InUts_30-LR_0.0001-EPOCHS_5000-PAT_150\n",
      "SUBJECT_s619-tIMG_natural-N_1-Nt_1-SEQ_10-InUts_30-LR_0.0001-EPOCHS_5000-PAT_150\n",
      "SUBJECT_s609-tIMG_natural-N_1-Nt_20-SEQ_10-InUts_30-LR_0.0001-EPOCHS_5000-PAT_150\n",
      "SUBJECT_s609-tIMG_pink_noise-N_1-Nt_5-SEQ_10-InUts_30-LR_0.0001-EPOCHS_5000-PAT_150\n",
      "SUBJECT_s605-tIMG_inverted-N_1-Nt_5-SEQ_10-InUts_30-LR_0.0001-EPOCHS_5000-PAT_150\n",
      "SUBJECT_s605-tIMG_natural-N_1-Nt_11-SEQ_10-InUts_30-LR_0.0001-EPOCHS_5000-PAT_150\n",
      "SUBJECT_s622-tIMG_white-N_1-Nt_5-SEQ_10-InUts_30-LR_0.0001-EPOCHS_5000-PAT_150\n",
      "SUBJECT_s609-tIMG_white_noise-N_1-Nt_1-SEQ_10-InUts_30-LR_0.0001-EPOCHS_5000-PAT_150\n",
      "SUBJECT_s619-tIMG_pink_noise-N_1-Nt_11-SEQ_10-InUts_30-LR_0.0001-EPOCHS_5000-PAT_150\n",
      "SUBJECT_s617-tIMG_grey-N_1-Nt_1-SEQ_10-InUts_30-LR_0.0001-EPOCHS_5000-PAT_150\n",
      "SUBJECT_s620-tIMG_white_noise-N_1-Nt_11-SEQ_10-InUts_30-LR_0.0001-EPOCHS_5000-PAT_150\n",
      "SUBJECT_s616-tIMG_white_noise-N_1-Nt_11-SEQ_10-InUts_30-LR_0.0001-EPOCHS_5000-PAT_150\n",
      "SUBJECT_s609-tIMG_grey-N_1-Nt_11-SEQ_10-InUts_30-LR_0.0001-EPOCHS_5000-PAT_150\n",
      "SUBJECT_s611-tIMG_pink_noise-N_1-Nt_5-SEQ_10-InUts_30-LR_0.0001-EPOCHS_5000-PAT_150\n",
      "SUBJECT_s622-tIMG_white_noise-N_1-Nt_11-SEQ_10-InUts_30-LR_0.0001-EPOCHS_5000-PAT_150\n",
      "SUBJECT_s619-tIMG_inverted-N_1-Nt_20-SEQ_10-InUts_30-LR_0.0001-EPOCHS_5000-PAT_150\n",
      "SUBJECT_s613-tIMG_black-N_1-Nt_20-SEQ_10-InUts_30-LR_0.0001-EPOCHS_5000-PAT_150\n",
      "SUBJECT_s611-tIMG_white_noise-N_1-Nt_20-SEQ_10-InUts_30-LR_0.0001-EPOCHS_5000-PAT_150\n",
      "SUBJECT_s620-tIMG_black-N_1-Nt_11-SEQ_10-InUts_30-LR_0.0001-EPOCHS_5000-PAT_150\n",
      "SUBJECT_s619-tIMG_grey-N_1-Nt_5-SEQ_10-InUts_30-LR_0.0001-EPOCHS_5000-PAT_150\n",
      "SUBJECT_s609-tIMG_black-N_1-Nt_1-SEQ_10-InUts_30-LR_0.0001-EPOCHS_5000-PAT_150\n"
     ]
    }
   ],
   "source": [
    "if only_all_vs_all:\n",
    "    # Load Results\n",
    "    if load_results:\n",
    "        with open(f'../results/assets/{model_name}/results_all_vs_all_{date_results}.json') as data_file:\n",
    "            results_all_vs_all = json.load(data_file)\n",
    "    else:    \n",
    "        data_getter = DataGetter(RESULTS_FOLDER)\n",
    "        results_all_vs_all = data_getter.calculate_metrics_results(only_all_vs_all=True, select_metrics=select_metrics)\n",
    "\n",
    "    # Save Results\n",
    "    if save_results:\n",
    "        with open(f'../results/assets/{model_name}/results_all_vs_all_{date_results}.json', 'w') as f: \n",
    "            json.dump(results_all_vs_all, f)"
   ]
  },
  {
   "cell_type": "code",
   "execution_count": 16,
   "id": "67458269",
   "metadata": {},
   "outputs": [
    {
     "data": {
      "text/plain": [
       "\"\\nfrom utils.utils import merge_dicts\\nall_results_new = all_results.copy()\\nwith open(f'../results/assets/{model_name}/results_all_17112021.json') as data_file: \\n    all_results_old = json.load(data_file)\\na_r = merge_dicts(all_results_old, all_results_new)\\nwith open(f'../results/assets/{model_name}/results_all_25112021.json', 'w') as f: #results_dict_test\\n    json.dump(a_r, f)\\n\""
      ]
     },
     "execution_count": 16,
     "metadata": {},
     "output_type": "execute_result"
    }
   ],
   "source": [
    "\"\"\"\n",
    "from utils.utils import merge_dicts\n",
    "all_results_new = all_results.copy()\n",
    "with open(f'../results/assets/{model_name}/results_all_17112021.json') as data_file: \n",
    "    all_results_old = json.load(data_file)\n",
    "a_r = merge_dicts(all_results_old, all_results_new)\n",
    "with open(f'../results/assets/{model_name}/results_all_25112021.json', 'w') as f: #results_dict_test\n",
    "    json.dump(a_r, f)\n",
    "\"\"\""
   ]
  }
 ],
 "metadata": {
  "kernelspec": {
   "display_name": "Python 3 (ipykernel)",
   "language": "python",
   "name": "python3"
  },
  "language_info": {
   "codemirror_mode": {
    "name": "ipython",
    "version": 3
   },
   "file_extension": ".py",
   "mimetype": "text/x-python",
   "name": "python",
   "nbconvert_exporter": "python",
   "pygments_lexer": "ipython3",
   "version": "3.7.11"
  }
 },
 "nbformat": 4,
 "nbformat_minor": 5
}
